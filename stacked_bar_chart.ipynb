{
 "cells": [
  {
   "cell_type": "markdown",
   "metadata": {},
   "source": [
    "# Exploring the data a bit with stacked bar charts"
   ]
  },
  {
   "cell_type": "markdown",
   "metadata": {},
   "source": [
    "We've only been looking at the largest cities by population, but we have a whole bunch of other data we can use."
   ]
  },
  {
   "cell_type": "code",
   "execution_count": 2,
   "metadata": {
    "collapsed": false
   },
   "outputs": [
    {
     "data": {
      "text/html": [
       "<div>\n",
       "<table border=\"1\" class=\"dataframe\">\n",
       "  <thead>\n",
       "    <tr style=\"text-align: right;\">\n",
       "      <th></th>\n",
       "      <th>id</th>\n",
       "      <th>Country</th>\n",
       "      <th>City</th>\n",
       "      <th>Region</th>\n",
       "      <th>Population</th>\n",
       "      <th>Latitude</th>\n",
       "      <th>Longitude</th>\n",
       "    </tr>\n",
       "    <tr>\n",
       "      <th>AccentCity</th>\n",
       "      <th></th>\n",
       "      <th></th>\n",
       "      <th></th>\n",
       "      <th></th>\n",
       "      <th></th>\n",
       "      <th></th>\n",
       "      <th></th>\n",
       "    </tr>\n",
       "  </thead>\n",
       "  <tbody>\n",
       "    <tr>\n",
       "      <th>Alabaster</th>\n",
       "      <td>2907755</td>\n",
       "      <td>us</td>\n",
       "      <td>alabaster</td>\n",
       "      <td>AL</td>\n",
       "      <td>26738.0</td>\n",
       "      <td>33.244167</td>\n",
       "      <td>-86.816389</td>\n",
       "    </tr>\n",
       "    <tr>\n",
       "      <th>Albertville</th>\n",
       "      <td>2907759</td>\n",
       "      <td>us</td>\n",
       "      <td>albertville</td>\n",
       "      <td>AL</td>\n",
       "      <td>18368.0</td>\n",
       "      <td>34.267500</td>\n",
       "      <td>-86.208889</td>\n",
       "    </tr>\n",
       "    <tr>\n",
       "      <th>Alexander City</th>\n",
       "      <td>2907765</td>\n",
       "      <td>us</td>\n",
       "      <td>alexander city</td>\n",
       "      <td>AL</td>\n",
       "      <td>14993.0</td>\n",
       "      <td>32.943889</td>\n",
       "      <td>-85.953889</td>\n",
       "    </tr>\n",
       "    <tr>\n",
       "      <th>Anniston</th>\n",
       "      <td>2907804</td>\n",
       "      <td>us</td>\n",
       "      <td>anniston</td>\n",
       "      <td>AL</td>\n",
       "      <td>23423.0</td>\n",
       "      <td>33.659722</td>\n",
       "      <td>-85.831667</td>\n",
       "    </tr>\n",
       "    <tr>\n",
       "      <th>Athens</th>\n",
       "      <td>2907848</td>\n",
       "      <td>us</td>\n",
       "      <td>athens</td>\n",
       "      <td>AL</td>\n",
       "      <td>20470.0</td>\n",
       "      <td>34.802778</td>\n",
       "      <td>-86.971667</td>\n",
       "    </tr>\n",
       "  </tbody>\n",
       "</table>\n",
       "</div>"
      ],
      "text/plain": [
       "                     id Country            City Region  Population   Latitude  \\\n",
       "AccentCity                                                                      \n",
       "Alabaster       2907755      us       alabaster     AL     26738.0  33.244167   \n",
       "Albertville     2907759      us     albertville     AL     18368.0  34.267500   \n",
       "Alexander City  2907765      us  alexander city     AL     14993.0  32.943889   \n",
       "Anniston        2907804      us        anniston     AL     23423.0  33.659722   \n",
       "Athens          2907848      us          athens     AL     20470.0  34.802778   \n",
       "\n",
       "                Longitude  \n",
       "AccentCity                 \n",
       "Alabaster      -86.816389  \n",
       "Albertville    -86.208889  \n",
       "Alexander City -85.953889  \n",
       "Anniston       -85.831667  \n",
       "Athens         -86.971667  "
      ]
     },
     "execution_count": 2,
     "metadata": {},
     "output_type": "execute_result"
    }
   ],
   "source": [
    "import pandas\n",
    "\n",
    "df = pandas.read_csv('US_cities.csv', index_col=\"AccentCity\")\n",
    "df[:5]"
   ]
  },
  {
   "cell_type": "markdown",
   "metadata": {},
   "source": [
    "We have over 4000 cities and towns in the database, definitely too many for a bar chart. But we could look at the population data at the state level. First, let's try just a simple groupby in pandas. "
   ]
  },
  {
   "cell_type": "code",
   "execution_count": 43,
   "metadata": {
    "collapsed": false
   },
   "outputs": [
    {
     "data": {
      "text/html": [
       "<div>\n",
       "<table border=\"1\" class=\"dataframe\">\n",
       "  <thead>\n",
       "    <tr style=\"text-align: right;\">\n",
       "      <th></th>\n",
       "      <th>Population</th>\n",
       "    </tr>\n",
       "    <tr>\n",
       "      <th>Region</th>\n",
       "      <th></th>\n",
       "    </tr>\n",
       "  </thead>\n",
       "  <tbody>\n",
       "    <tr>\n",
       "      <th>AK</th>\n",
       "      <td>425708.0</td>\n",
       "    </tr>\n",
       "    <tr>\n",
       "      <th>AL</th>\n",
       "      <td>1995225.0</td>\n",
       "    </tr>\n",
       "    <tr>\n",
       "      <th>AR</th>\n",
       "      <td>1212898.0</td>\n",
       "    </tr>\n",
       "    <tr>\n",
       "      <th>AZ</th>\n",
       "      <td>4838335.0</td>\n",
       "    </tr>\n",
       "    <tr>\n",
       "      <th>CA</th>\n",
       "      <td>30890865.0</td>\n",
       "    </tr>\n",
       "  </tbody>\n",
       "</table>\n",
       "</div>"
      ],
      "text/plain": [
       "        Population\n",
       "Region            \n",
       "AK        425708.0\n",
       "AL       1995225.0\n",
       "AR       1212898.0\n",
       "AZ       4838335.0\n",
       "CA      30890865.0"
      ]
     },
     "execution_count": 43,
     "metadata": {},
     "output_type": "execute_result"
    }
   ],
   "source": [
    "states_pop = df[[\"Population\", \"Region\"]].groupby(by=[\"Region\"]).sum()\n",
    "states_pop[:5]"
   ]
  },
  {
   "cell_type": "code",
   "execution_count": 42,
   "metadata": {
    "collapsed": false
   },
   "outputs": [
    {
     "data": {
      "image/png": "[encoded data removed]",
      "text/plain": [
       "<matplotlib.figure.Figure at 0x1ebd0c6c978>"
      ]
     },
     "metadata": {},
     "output_type": "display_data"
    }
   ],
   "source": [
    "states_pop.plot.bar()\n",
    "plt.show()"
   ]
  },
  {
   "cell_type": "markdown",
   "metadata": {},
   "source": [
    "Let's make a stacked bar chart that shows us how much the three largest cities contribute to population compared to the rest of the state. First, we'll need to get a separate list of the three top cities. To do that, we'll be using the pandas groupby method."
   ]
  },
  {
   "cell_type": "code",
   "execution_count": 59,
   "metadata": {
    "collapsed": false
   },
   "outputs": [
    {
     "data": {
      "text/html": [
       "<div>\n",
       "<table border=\"1\" class=\"dataframe\">\n",
       "  <thead>\n",
       "    <tr style=\"text-align: right;\">\n",
       "      <th></th>\n",
       "      <th>id</th>\n",
       "      <th>Country</th>\n",
       "      <th>City</th>\n",
       "      <th>Region</th>\n",
       "      <th>Population</th>\n",
       "      <th>Latitude</th>\n",
       "      <th>Longitude</th>\n",
       "    </tr>\n",
       "    <tr>\n",
       "      <th>AccentCity</th>\n",
       "      <th></th>\n",
       "      <th></th>\n",
       "      <th></th>\n",
       "      <th></th>\n",
       "      <th></th>\n",
       "      <th></th>\n",
       "      <th></th>\n",
       "    </tr>\n",
       "  </thead>\n",
       "  <tbody>\n",
       "    <tr>\n",
       "      <th>Birmingham</th>\n",
       "      <td>2908046</td>\n",
       "      <td>us</td>\n",
       "      <td>birmingham</td>\n",
       "      <td>AL</td>\n",
       "      <td>231621.0</td>\n",
       "      <td>33.520556</td>\n",
       "      <td>-86.802500</td>\n",
       "    </tr>\n",
       "    <tr>\n",
       "      <th>Anchorage</th>\n",
       "      <td>2912001</td>\n",
       "      <td>us</td>\n",
       "      <td>anchorage</td>\n",
       "      <td>AK</td>\n",
       "      <td>276263.0</td>\n",
       "      <td>61.218056</td>\n",
       "      <td>-149.900278</td>\n",
       "    </tr>\n",
       "    <tr>\n",
       "      <th>Phoenix</th>\n",
       "      <td>2913986</td>\n",
       "      <td>us</td>\n",
       "      <td>phoenix</td>\n",
       "      <td>AZ</td>\n",
       "      <td>1428509.0</td>\n",
       "      <td>33.448333</td>\n",
       "      <td>-112.073333</td>\n",
       "    </tr>\n",
       "    <tr>\n",
       "      <th>Little Rock</th>\n",
       "      <td>2916351</td>\n",
       "      <td>us</td>\n",
       "      <td>little rock</td>\n",
       "      <td>AR</td>\n",
       "      <td>184217.0</td>\n",
       "      <td>34.746389</td>\n",
       "      <td>-92.289444</td>\n",
       "    </tr>\n",
       "    <tr>\n",
       "      <th>Los Angeles</th>\n",
       "      <td>2920652</td>\n",
       "      <td>us</td>\n",
       "      <td>los angeles</td>\n",
       "      <td>CA</td>\n",
       "      <td>3877129.0</td>\n",
       "      <td>34.052222</td>\n",
       "      <td>-118.242778</td>\n",
       "    </tr>\n",
       "  </tbody>\n",
       "</table>\n",
       "</div>"
      ],
      "text/plain": [
       "                  id Country         City Region  Population   Latitude  \\\n",
       "AccentCity                                                                \n",
       "Birmingham   2908046      us   birmingham     AL    231621.0  33.520556   \n",
       "Anchorage    2912001      us    anchorage     AK    276263.0  61.218056   \n",
       "Phoenix      2913986      us      phoenix     AZ   1428509.0  33.448333   \n",
       "Little Rock  2916351      us  little rock     AR    184217.0  34.746389   \n",
       "Los Angeles  2920652      us  los angeles     CA   3877129.0  34.052222   \n",
       "\n",
       "              Longitude  \n",
       "AccentCity               \n",
       "Birmingham   -86.802500  \n",
       "Anchorage   -149.900278  \n",
       "Phoenix     -112.073333  \n",
       "Little Rock  -92.289444  \n",
       "Los Angeles -118.242778  "
      ]
     },
     "execution_count": 59,
     "metadata": {},
     "output_type": "execute_result"
    }
   ],
   "source": [
    "largest_cities_idx = df.groupby(by=[\"Region\"], sort=False)[\"Population\"].transform(max) == df[\"Population\"]\n",
    "df[largest_cities_idx][:5]"
   ]
  },
  {
   "cell_type": "code",
   "execution_count": 87,
   "metadata": {
    "collapsed": false
   },
   "outputs": [
    {
     "data": {
      "text/html": [
       "<div>\n",
       "<table border=\"1\" class=\"dataframe\">\n",
       "  <thead>\n",
       "    <tr style=\"text-align: right;\">\n",
       "      <th></th>\n",
       "      <th>id</th>\n",
       "      <th>Country</th>\n",
       "      <th>City</th>\n",
       "      <th>Region</th>\n",
       "      <th>Population</th>\n",
       "      <th>Latitude</th>\n",
       "      <th>Longitude</th>\n",
       "    </tr>\n",
       "    <tr>\n",
       "      <th>AccentCity</th>\n",
       "      <th></th>\n",
       "      <th></th>\n",
       "      <th></th>\n",
       "      <th></th>\n",
       "      <th></th>\n",
       "      <th></th>\n",
       "      <th></th>\n",
       "    </tr>\n",
       "  </thead>\n",
       "  <tbody>\n",
       "    <tr>\n",
       "      <th>Montgomery</th>\n",
       "      <td>2910236</td>\n",
       "      <td>us</td>\n",
       "      <td>montgomery</td>\n",
       "      <td>AL</td>\n",
       "      <td>198325.0</td>\n",
       "      <td>32.366667</td>\n",
       "      <td>-86.300000</td>\n",
       "    </tr>\n",
       "    <tr>\n",
       "      <th>Juneau</th>\n",
       "      <td>2912251</td>\n",
       "      <td>us</td>\n",
       "      <td>juneau</td>\n",
       "      <td>AK</td>\n",
       "      <td>31796.0</td>\n",
       "      <td>58.301944</td>\n",
       "      <td>-134.419722</td>\n",
       "    </tr>\n",
       "    <tr>\n",
       "      <th>Tucson</th>\n",
       "      <td>2914501</td>\n",
       "      <td>us</td>\n",
       "      <td>tucson</td>\n",
       "      <td>AZ</td>\n",
       "      <td>518907.0</td>\n",
       "      <td>32.221667</td>\n",
       "      <td>-110.925833</td>\n",
       "    </tr>\n",
       "    <tr>\n",
       "      <th>Fort Smith</th>\n",
       "      <td>2915717</td>\n",
       "      <td>us</td>\n",
       "      <td>fort smith</td>\n",
       "      <td>AR</td>\n",
       "      <td>81985.0</td>\n",
       "      <td>35.385833</td>\n",
       "      <td>-94.398333</td>\n",
       "    </tr>\n",
       "    <tr>\n",
       "      <th>San Diego</th>\n",
       "      <td>2922103</td>\n",
       "      <td>us</td>\n",
       "      <td>san diego</td>\n",
       "      <td>CA</td>\n",
       "      <td>1287050.0</td>\n",
       "      <td>32.715278</td>\n",
       "      <td>-117.156389</td>\n",
       "    </tr>\n",
       "  </tbody>\n",
       "</table>\n",
       "</div>"
      ],
      "text/plain": [
       "                 id Country        City Region  Population   Latitude  \\\n",
       "AccentCity                                                              \n",
       "Montgomery  2910236      us  montgomery     AL    198325.0  32.366667   \n",
       "Juneau      2912251      us      juneau     AK     31796.0  58.301944   \n",
       "Tucson      2914501      us      tucson     AZ    518907.0  32.221667   \n",
       "Fort Smith  2915717      us  fort smith     AR     81985.0  35.385833   \n",
       "San Diego   2922103      us   san diego     CA   1287050.0  32.715278   \n",
       "\n",
       "             Longitude  \n",
       "AccentCity              \n",
       "Montgomery  -86.300000  \n",
       "Juneau     -134.419722  \n",
       "Tucson     -110.925833  \n",
       "Fort Smith  -94.398333  \n",
       "San Diego  -117.156389  "
      ]
     },
     "execution_count": 87,
     "metadata": {},
     "output_type": "execute_result"
    }
   ],
   "source": [
    "def max2(cities):\n",
    "    return nth_largest(cities, 2)\n",
    "def max3(cities):\n",
    "    return nth_largest(cities, 3)\n",
    "def nth_largest(cities, n):\n",
    "    nlargest = cities.nlargest(n)\n",
    "    if len(nlargest) < n:\n",
    "        return None\n",
    "    return nlargest[n-1]\n",
    "second_largest_idx = df.groupby(by=[\"Region\"], sort=False)[\"Population\"].transform(max2) == df[\"Population\"]\n",
    "third_largest_idx = df.groupby(by=[\"Region\"], sort=False)[\"Population\"].transform(max3) == df[\"Population\"]\n",
    "df[second_largest_idx][:5]"
   ]
  },
  {
   "cell_type": "markdown",
   "metadata": {},
   "source": [
    "Now we just need to sum the rest of the cities that we haven't counted yet."
   ]
  },
  {
   "cell_type": "code",
   "execution_count": 35,
   "metadata": {
    "collapsed": false
   },
   "outputs": [
    {
     "data": {
      "image/png": "[encoded data removed]",
      "text/plain": [
       "<matplotlib.figure.Figure at 0x1ebd0a32630>"
      ]
     },
     "metadata": {},
     "output_type": "display_data"
    }
   ],
   "source": [
    "seaborn.countplot(x=\"Region\", data=df)\n",
    "plt.xticks(rotation=\"vertical\")\n",
    "plt.show()"
   ]
  },
  {
   "cell_type": "markdown",
   "metadata": {},
   "source": [
    "# Interactive"
   ]
  },
  {
   "cell_type": "markdown",
   "metadata": {},
   "source": [
    "### Bokeh"
   ]
  },
  {
   "cell_type": "markdown",
   "metadata": {},
   "source": [
    "..."
   ]
  },
  {
   "cell_type": "markdown",
   "metadata": {},
   "source": [
    "### Altair"
   ]
  },
  {
   "cell_type": "markdown",
   "metadata": {},
   "source": [
    "..."
   ]
  }
 ],
 "metadata": {
  "kernelspec": {
   "display_name": "Python 3",
   "language": "python",
   "name": "python3"
  },
  "language_info": {
   "codemirror_mode": {
    "name": "ipython",
    "version": 3
   },
   "file_extension": ".py",
   "mimetype": "text/x-python",
   "name": "python",
   "nbconvert_exporter": "python",
   "pygments_lexer": "ipython3",
   "version": "3.6.0"
  }
 },
 "nbformat": 4,
 "nbformat_minor": 2
}
