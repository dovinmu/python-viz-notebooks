{
 "cells": [
  {
   "cell_type": "markdown",
   "metadata": {},
   "source": [
    "# Simple data visualization: the bar chart"
   ]
  },
  {
   "cell_type": "markdown",
   "metadata": {},
   "source": [
    "In this notebook we'll be comparing as many Python visualization libraries as possible with one simple metric: how easy is it to make a bar chart? We'll also look a bit into customization with each library, and explore the pain points a bit. \n",
    "\n",
    "_Note: if you're viewing this on GitHub, charting libraries that output Javascript (Bokeh, Holoviews, Altair) won't display. Try viewing the notebook on [my nbviewer page](http://nbviewer.jupyter.org/github/dovinmu/python-viz-notebooks/tree/master/) instead._\n",
    "\n",
    "First, let's load a pandas DataFrame of the data we'll be using and clean it a bit. There's a CSV in the repository that lists over 4,000 cities and towns in the United States. For now, let's just take the cities that are over a certain size and plop that into various charting libraries. "
   ]
  },
  {
   "cell_type": "code",
   "execution_count": 1,
   "metadata": {},
   "outputs": [
    {
     "data": {
      "text/html": [
       "<div>\n",
       "<style scoped>\n",
       "    .dataframe tbody tr th:only-of-type {\n",
       "        vertical-align: middle;\n",
       "    }\n",
       "\n",
       "    .dataframe tbody tr th {\n",
       "        vertical-align: top;\n",
       "    }\n",
       "\n",
       "    .dataframe thead th {\n",
       "        text-align: right;\n",
       "    }\n",
       "</style>\n",
       "<table border=\"1\" class=\"dataframe\">\n",
       "  <thead>\n",
       "    <tr style=\"text-align: right;\">\n",
       "      <th></th>\n",
       "      <th>Population</th>\n",
       "    </tr>\n",
       "    <tr>\n",
       "      <th>Name</th>\n",
       "      <th></th>\n",
       "    </tr>\n",
       "  </thead>\n",
       "  <tbody>\n",
       "    <tr>\n",
       "      <th>Tucson</th>\n",
       "      <td>0.518907</td>\n",
       "    </tr>\n",
       "    <tr>\n",
       "      <th>Nashville</th>\n",
       "      <td>0.530852</td>\n",
       "    </tr>\n",
       "    <tr>\n",
       "      <th>Oklahoma City</th>\n",
       "      <td>0.532950</td>\n",
       "    </tr>\n",
       "    <tr>\n",
       "      <th>Las Vegas</th>\n",
       "      <td>0.540111</td>\n",
       "    </tr>\n",
       "    <tr>\n",
       "      <th>Portland</th>\n",
       "      <td>0.540513</td>\n",
       "    </tr>\n",
       "    <tr>\n",
       "      <th>Washington</th>\n",
       "      <td>0.552433</td>\n",
       "    </tr>\n",
       "    <tr>\n",
       "      <th>Denver</th>\n",
       "      <td>0.555981</td>\n",
       "    </tr>\n",
       "    <tr>\n",
       "      <th>Seattle</th>\n",
       "      <td>0.569369</td>\n",
       "    </tr>\n",
       "    <tr>\n",
       "      <th>Boston</th>\n",
       "      <td>0.571281</td>\n",
       "    </tr>\n",
       "    <tr>\n",
       "      <th>Milwaukee</th>\n",
       "      <td>0.579180</td>\n",
       "    </tr>\n",
       "    <tr>\n",
       "      <th>El Paso</th>\n",
       "      <td>0.597181</td>\n",
       "    </tr>\n",
       "    <tr>\n",
       "      <th>Charlotte</th>\n",
       "      <td>0.598351</td>\n",
       "    </tr>\n",
       "    <tr>\n",
       "      <th>Baltimore</th>\n",
       "      <td>0.610892</td>\n",
       "    </tr>\n",
       "    <tr>\n",
       "      <th>Fort Worth</th>\n",
       "      <td>0.618119</td>\n",
       "    </tr>\n",
       "    <tr>\n",
       "      <th>Memphis</th>\n",
       "      <td>0.641608</td>\n",
       "    </tr>\n",
       "    <tr>\n",
       "      <th>Austin</th>\n",
       "      <td>0.678368</td>\n",
       "    </tr>\n",
       "    <tr>\n",
       "      <th>San Francisco</th>\n",
       "      <td>0.732072</td>\n",
       "    </tr>\n",
       "    <tr>\n",
       "      <th>Columbus</th>\n",
       "      <td>0.736836</td>\n",
       "    </tr>\n",
       "    <tr>\n",
       "      <th>Indianapolis</th>\n",
       "      <td>0.773283</td>\n",
       "    </tr>\n",
       "    <tr>\n",
       "      <th>Jacksonville</th>\n",
       "      <td>0.797557</td>\n",
       "    </tr>\n",
       "    <tr>\n",
       "      <th>Detroit</th>\n",
       "      <td>0.884941</td>\n",
       "    </tr>\n",
       "    <tr>\n",
       "      <th>San Jose</th>\n",
       "      <td>0.897460</td>\n",
       "    </tr>\n",
       "    <tr>\n",
       "      <th>Dallas</th>\n",
       "      <td>1.211704</td>\n",
       "    </tr>\n",
       "    <tr>\n",
       "      <th>San Antonio</th>\n",
       "      <td>1.256810</td>\n",
       "    </tr>\n",
       "    <tr>\n",
       "      <th>San Diego</th>\n",
       "      <td>1.287050</td>\n",
       "    </tr>\n",
       "    <tr>\n",
       "      <th>Phoenix</th>\n",
       "      <td>1.428509</td>\n",
       "    </tr>\n",
       "    <tr>\n",
       "      <th>Philadelphia</th>\n",
       "      <td>1.453268</td>\n",
       "    </tr>\n",
       "    <tr>\n",
       "      <th>Houston</th>\n",
       "      <td>2.027712</td>\n",
       "    </tr>\n",
       "    <tr>\n",
       "      <th>Chicago</th>\n",
       "      <td>2.841952</td>\n",
       "    </tr>\n",
       "    <tr>\n",
       "      <th>Los Angeles</th>\n",
       "      <td>3.877129</td>\n",
       "    </tr>\n",
       "    <tr>\n",
       "      <th>New York</th>\n",
       "      <td>8.107916</td>\n",
       "    </tr>\n",
       "  </tbody>\n",
       "</table>\n",
       "</div>"
      ],
      "text/plain": [
       "               Population\n",
       "Name                     \n",
       "Tucson           0.518907\n",
       "Nashville        0.530852\n",
       "Oklahoma City    0.532950\n",
       "Las Vegas        0.540111\n",
       "Portland         0.540513\n",
       "Washington       0.552433\n",
       "Denver           0.555981\n",
       "Seattle          0.569369\n",
       "Boston           0.571281\n",
       "Milwaukee        0.579180\n",
       "El Paso          0.597181\n",
       "Charlotte        0.598351\n",
       "Baltimore        0.610892\n",
       "Fort Worth       0.618119\n",
       "Memphis          0.641608\n",
       "Austin           0.678368\n",
       "San Francisco    0.732072\n",
       "Columbus         0.736836\n",
       "Indianapolis     0.773283\n",
       "Jacksonville     0.797557\n",
       "Detroit          0.884941\n",
       "San Jose         0.897460\n",
       "Dallas           1.211704\n",
       "San Antonio      1.256810\n",
       "San Diego        1.287050\n",
       "Phoenix          1.428509\n",
       "Philadelphia     1.453268\n",
       "Houston          2.027712\n",
       "Chicago          2.841952\n",
       "Los Angeles      3.877129\n",
       "New York         8.107916"
      ]
     },
     "execution_count": 1,
     "metadata": {},
     "output_type": "execute_result"
    }
   ],
   "source": [
    "import pandas\n",
    "%matplotlib inline\n",
    "\n",
    "df = pandas.read_csv('data/US_cities.csv', index_col=\"AccentCity\")\n",
    "# select cities with a population greater than 750,000 and convert units to millions\n",
    "large_cities = df[df[\"Population\"] > 500000][[\"Population\"]] / 1000000\n",
    "# sort the list by population\n",
    "large_cities.sort_values(\"Population\", inplace=True)\n",
    "# we don't care about all the other data, so discard everything but the population\n",
    "large_cities_ser = large_cities[\"Population\"]\n",
    "# also don't care about the name of the cities column in the CSV\n",
    "large_cities_ser.index.name = \"Name\"\n",
    "\n",
    "large_cities"
   ]
  },
  {
   "cell_type": "markdown",
   "metadata": {},
   "source": [
    "We'll represent the population in the millions to make it so we don't have to fiddle with the y-axis of our plots. \n",
    "\n",
    "### Matplotlib\n",
    "Matplotlib is both amazingly versatile, and also generally more verbose than the other packages below (which usually will use it as a backend rendering target for static graphs). You need to manually specify a few things that other packages just handle."
   ]
  },
  {
   "cell_type": "code",
   "execution_count": 2,
   "metadata": {},
   "outputs": [
    {
     "data": {
      "text/plain": [
       "Index(['Tucson', 'Nashville', 'Oklahoma City', 'Las Vegas', 'Portland',\n",
       "       'Washington', 'Denver', 'Seattle', 'Boston', 'Milwaukee', 'El Paso',\n",
       "       'Charlotte', 'Baltimore', 'Fort Worth', 'Memphis', 'Austin',\n",
       "       'San Francisco', 'Columbus', 'Indianapolis', 'Jacksonville', 'Detroit',\n",
       "       'San Jose', 'Dallas', 'San Antonio', 'San Diego', 'Phoenix',\n",
       "       'Philadelphia', 'Houston', 'Chicago', 'Los Angeles', 'New York'],\n",
       "      dtype='object', name='Name')"
      ]
     },
     "execution_count": 2,
     "metadata": {},
     "output_type": "execute_result"
    }
   ],
   "source": [
    "large_cities.index"
   ]
  },
  {
   "cell_type": "code",
   "execution_count": 3,
   "metadata": {},
   "outputs": [
    {
     "data": {
      "text/plain": [
       "Text(0,0.5,'Population (m)')"
      ]
     },
     "execution_count": 3,
     "metadata": {},
     "output_type": "execute_result"
    },
    {
     "data": {
      "image/png": "[encoded data removed]",
      "text/plain": [
       "<Figure size 432x288 with 1 Axes>"
      ]
     },
     "metadata": {},
     "output_type": "display_data"
    }
   ],
   "source": [
    "import matplotlib.pyplot as plt\n",
    "\n",
    "# manually tell matplotlib where the bars will go, so we'll space them out every 10 pixels\n",
    "left = [i * 10 for i in range(len(large_cities))]\n",
    "cities = list(large_cities.values)\n",
    "plt.bar(left, large_cities.Population, width=5, \n",
    "        tick_label=large_cities.index)\n",
    "# make the city names vertical so we can read them\n",
    "plt.xticks(rotation=\"vertical\")\n",
    "plt.ylabel(\"Population (m)\")"
   ]
  },
  {
   "cell_type": "markdown",
   "metadata": {},
   "source": [
    "And we get this decent-looking bar chart."
   ]
  },
  {
   "cell_type": "markdown",
   "metadata": {},
   "source": [
    "### Pandas + Matplotlib"
   ]
  },
  {
   "cell_type": "markdown",
   "metadata": {},
   "source": [
    "Pandas is what we loaded the data in with, and it has plotting functions that use matplotlib as the backend but are aware of how your dataframe is structured. This is all we need to do to make an almost identical chart as the one above."
   ]
  },
  {
   "cell_type": "code",
   "execution_count": 8,
   "metadata": {},
   "outputs": [
    {
     "data": {
      "text/plain": [
       "<matplotlib.axes._subplots.AxesSubplot at 0x2229e9cc978>"
      ]
     },
     "execution_count": 8,
     "metadata": {},
     "output_type": "execute_result"
    },
    {
     "data": {
      "image/png": "[encoded data removed]",
      "text/plain": [
       "<Figure size 432x288 with 1 Axes>"
      ]
     },
     "metadata": {},
     "output_type": "display_data"
    }
   ],
   "source": [
    "large_cities.plot.bar()"
   ]
  },
  {
   "cell_type": "markdown",
   "metadata": {},
   "source": [
    "Because pandas is plotting to matplotlib on the backend, you can still tweak it with commands directly to matplotlib like in the second line above. "
   ]
  },
  {
   "cell_type": "markdown",
   "metadata": {},
   "source": [
    "### Seaborn"
   ]
  },
  {
   "cell_type": "code",
   "execution_count": 5,
   "metadata": {},
   "outputs": [
    {
     "data": {
      "text/plain": [
       "Text(0,0.5,'Population (m)')"
      ]
     },
     "execution_count": 5,
     "metadata": {},
     "output_type": "execute_result"
    },
    {
     "data": {
      "image/png": "[encoded data removed]",
      "text/plain": [
       "<Figure size 432x288 with 1 Axes>"
      ]
     },
     "metadata": {},
     "output_type": "display_data"
    }
   ],
   "source": [
    "import seaborn\n",
    "seaborn.barplot(x=large_cities.index, y=large_cities.Population)\n",
    "plt.xticks(rotation=\"vertical\")\n",
    "plt.ylabel(\"Population (m)\")"
   ]
  },
  {
   "cell_type": "markdown",
   "metadata": {},
   "source": [
    "### Bokeh\n",
    "\n",
    "Here's how to make a bar chart similar to the ones above in Bokeh."
   ]
  },
  {
   "cell_type": "code",
   "execution_count": 6,
   "metadata": {},
   "outputs": [
    {
     "data": {
      "text/html": [
       "\n",
       "    <div class=\"bk-root\">\n",
       "        <a href=\"https://bokeh.pydata.org\" target=\"_blank\" class=\"bk-logo bk-logo-small bk-logo-notebook\"></a>\n",
       "        <span id=\"c58c56fb-8535-4277-b460-988cbcd9fe0e\">Loading BokehJS ...</span>\n",
       "    </div>"
      ]
     },
     "metadata": {},
     "output_type": "display_data"
    },
    {
     "data": {
      "application/javascript": [
       "\n",
       "(function(root) {\n",
       "  function now() {\n",
       "    return new Date();\n",
       "  }\n",
       "\n",
       "  var force = true;\n",
       "\n",
       "  if (typeof (root._bokeh_onload_callbacks) === \"undefined\" || force === true) {\n",
       "    root._bokeh_onload_callbacks = [];\n",
       "    root._bokeh_is_loading = undefined;\n",
       "  }\n",
       "\n",
       "  var JS_MIME_TYPE = 'application/javascript';\n",
       "  var HTML_MIME_TYPE = 'text/html';\n",
       "  var EXEC_MIME_TYPE = 'application/vnd.bokehjs_exec.v0+json';\n",
       "  var CLASS_NAME = 'output_bokeh rendered_html';\n",
       "\n",
       "  /**\n",
       "   * Render data to the DOM node\n",
       "   */\n",
       "  function render(props, node) {\n",
       "    var script = document.createElement(\"script\");\n",
       "    node.appendChild(script);\n",
       "  }\n",
       "\n",
       "  /**\n",
       "   * Handle when an output is cleared or removed\n",
       "   */\n",
       "  function handleClearOutput(event, handle) {\n",
       "    var cell = handle.cell;\n",
       "\n",
       "    var id = cell.output_area._bokeh_element_id;\n",
       "    var server_id = cell.output_area._bokeh_server_id;\n",
       "    // Clean up Bokeh references\n",
       "    if (id != null && id in Bokeh.index) {\n",
       "      Bokeh.index[id].model.document.clear();\n",
       "      delete Bokeh.index[id];\n",
       "    }\n",
       "\n",
       "    if (server_id !== undefined) {\n",
       "      // Clean up Bokeh references\n",
       "      var cmd = \"from bokeh.io.state import curstate; print(curstate().uuid_to_server['\" + server_id + \"'].get_sessions()[0].document.roots[0]._id)\";\n",
       "      cell.notebook.kernel.execute(cmd, {\n",
       "        iopub: {\n",
       "          output: function(msg) {\n",
       "            var id = msg.content.text.trim();\n",
       "            if (id in Bokeh.index) {\n",
       "              Bokeh.index[id].model.document.clear();\n",
       "              delete Bokeh.index[id];\n",
       "            }\n",
       "          }\n",
       "        }\n",
       "      });\n",
       "      // Destroy server and session\n",
       "      var cmd = \"import bokeh.io.notebook as ion; ion.destroy_server('\" + server_id + \"')\";\n",
       "      cell.notebook.kernel.execute(cmd);\n",
       "    }\n",
       "  }\n",
       "\n",
       "  /**\n",
       "   * Handle when a new output is added\n",
       "   */\n",
       "  function handleAddOutput(event, handle) {\n",
       "    var output_area = handle.output_area;\n",
       "    var output = handle.output;\n",
       "\n",
       "    // limit handleAddOutput to display_data with EXEC_MIME_TYPE content only\n",
       "    if ((output.output_type != \"display_data\") || (!output.data.hasOwnProperty(EXEC_MIME_TYPE))) {\n",
       "      return\n",
       "    }\n",
       "\n",
       "    var toinsert = output_area.element.find(\".\" + CLASS_NAME.split(' ')[0]);\n",
       "\n",
       "    if (output.metadata[EXEC_MIME_TYPE][\"id\"] !== undefined) {\n",
       "      toinsert[toinsert.length - 1].firstChild.textContent = output.data[JS_MIME_TYPE];\n",
       "      // store reference to embed id on output_area\n",
       "      output_area._bokeh_element_id = output.metadata[EXEC_MIME_TYPE][\"id\"];\n",
       "    }\n",
       "    if (output.metadata[EXEC_MIME_TYPE][\"server_id\"] !== undefined) {\n",
       "      var bk_div = document.createElement(\"div\");\n",
       "      bk_div.innerHTML = output.data[HTML_MIME_TYPE];\n",
       "      var script_attrs = bk_div.children[0].attributes;\n",
       "      for (var i = 0; i < script_attrs.length; i++) {\n",
       "        toinsert[toinsert.length - 1].firstChild.setAttribute(script_attrs[i].name, script_attrs[i].value);\n",
       "      }\n",
       "      // store reference to server id on output_area\n",
       "      output_area._bokeh_server_id = output.metadata[EXEC_MIME_TYPE][\"server_id\"];\n",
       "    }\n",
       "  }\n",
       "\n",
       "  function register_renderer(events, OutputArea) {\n",
       "\n",
       "    function append_mime(data, metadata, element) {\n",
       "      // create a DOM node to render to\n",
       "      var toinsert = this.create_output_subarea(\n",
       "        metadata,\n",
       "        CLASS_NAME,\n",
       "        EXEC_MIME_TYPE\n",
       "      );\n",
       "      this.keyboard_manager.register_events(toinsert);\n",
       "      // Render to node\n",
       "      var props = {data: data, metadata: metadata[EXEC_MIME_TYPE]};\n",
       "      render(props, toinsert[toinsert.length - 1]);\n",
       "      element.append(toinsert);\n",
       "      return toinsert\n",
       "    }\n",
       "\n",
       "    /* Handle when an output is cleared or removed */\n",
       "    events.on('clear_output.CodeCell', handleClearOutput);\n",
       "    events.on('delete.Cell', handleClearOutput);\n",
       "\n",
       "    /* Handle when a new output is added */\n",
       "    events.on('output_added.OutputArea', handleAddOutput);\n",
       "\n",
       "    /**\n",
       "     * Register the mime type and append_mime function with output_area\n",
       "     */\n",
       "    OutputArea.prototype.register_mime_type(EXEC_MIME_TYPE, append_mime, {\n",
       "      /* Is output safe? */\n",
       "      safe: true,\n",
       "      /* Index of renderer in `output_area.display_order` */\n",
       "      index: 0\n",
       "    });\n",
       "  }\n",
       "\n",
       "  // register the mime type if in Jupyter Notebook environment and previously unregistered\n",
       "  if (root.Jupyter !== undefined) {\n",
       "    var events = require('base/js/events');\n",
       "    var OutputArea = require('notebook/js/outputarea').OutputArea;\n",
       "\n",
       "    if (OutputArea.prototype.mime_types().indexOf(EXEC_MIME_TYPE) == -1) {\n",
       "      register_renderer(events, OutputArea);\n",
       "    }\n",
       "  }\n",
       "\n",
       "  \n",
       "  if (typeof (root._bokeh_timeout) === \"undefined\" || force === true) {\n",
       "    root._bokeh_timeout = Date.now() + 5000;\n",
       "    root._bokeh_failed_load = false;\n",
       "  }\n",
       "\n",
       "  var NB_LOAD_WARNING = {'data': {'text/html':\n",
       "     \"<div style='background-color: #fdd'>\\n\"+\n",
       "     \"<p>\\n\"+\n",
       "     \"BokehJS does not appear to have successfully loaded. If loading BokehJS from CDN, this \\n\"+\n",
       "     \"may be due to a slow or bad network connection. Possible fixes:\\n\"+\n",
       "     \"</p>\\n\"+\n",
       "     \"<ul>\\n\"+\n",
       "     \"<li>re-rerun `output_notebook()` to attempt to load from CDN again, or</li>\\n\"+\n",
       "     \"<li>use INLINE resources instead, as so:</li>\\n\"+\n",
       "     \"</ul>\\n\"+\n",
       "     \"<code>\\n\"+\n",
       "     \"from bokeh.resources import INLINE\\n\"+\n",
       "     \"output_notebook(resources=INLINE)\\n\"+\n",
       "     \"</code>\\n\"+\n",
       "     \"</div>\"}};\n",
       "\n",
       "  function display_loaded() {\n",
       "    var el = document.getElementById(\"c58c56fb-8535-4277-b460-988cbcd9fe0e\");\n",
       "    if (el != null) {\n",
       "      el.textContent = \"BokehJS is loading...\";\n",
       "    }\n",
       "    if (root.Bokeh !== undefined) {\n",
       "      if (el != null) {\n",
       "        el.textContent = \"BokehJS \" + root.Bokeh.version + \" successfully loaded.\";\n",
       "      }\n",
       "    } else if (Date.now() < root._bokeh_timeout) {\n",
       "      setTimeout(display_loaded, 100)\n",
       "    }\n",
       "  }\n",
       "\n",
       "\n",
       "  function run_callbacks() {\n",
       "    try {\n",
       "      root._bokeh_onload_callbacks.forEach(function(callback) { callback() });\n",
       "    }\n",
       "    finally {\n",
       "      delete root._bokeh_onload_callbacks\n",
       "    }\n",
       "    console.info(\"Bokeh: all callbacks have finished\");\n",
       "  }\n",
       "\n",
       "  function load_libs(js_urls, callback) {\n",
       "    root._bokeh_onload_callbacks.push(callback);\n",
       "    if (root._bokeh_is_loading > 0) {\n",
       "      console.log(\"Bokeh: BokehJS is being loaded, scheduling callback at\", now());\n",
       "      return null;\n",
       "    }\n",
       "    if (js_urls == null || js_urls.length === 0) {\n",
       "      run_callbacks();\n",
       "      return null;\n",
       "    }\n",
       "    console.log(\"Bokeh: BokehJS not loaded, scheduling load and callback at\", now());\n",
       "    root._bokeh_is_loading = js_urls.length;\n",
       "    for (var i = 0; i < js_urls.length; i++) {\n",
       "      var url = js_urls[i];\n",
       "      var s = document.createElement('script');\n",
       "      s.src = url;\n",
       "      s.async = false;\n",
       "      s.onreadystatechange = s.onload = function() {\n",
       "        root._bokeh_is_loading--;\n",
       "        if (root._bokeh_is_loading === 0) {\n",
       "          console.log(\"Bokeh: all BokehJS libraries loaded\");\n",
       "          run_callbacks()\n",
       "        }\n",
       "      };\n",
       "      s.onerror = function() {\n",
       "        console.warn(\"failed to load library \" + url);\n",
       "      };\n",
       "      console.log(\"Bokeh: injecting script tag for BokehJS library: \", url);\n",
       "      document.getElementsByTagName(\"head\")[0].appendChild(s);\n",
       "    }\n",
       "  };var element = document.getElementById(\"c58c56fb-8535-4277-b460-988cbcd9fe0e\");\n",
       "  if (element == null) {\n",
       "    console.log(\"Bokeh: ERROR: autoload.js configured with elementid 'c58c56fb-8535-4277-b460-988cbcd9fe0e' but no matching script tag was found. \")\n",
       "    return false;\n",
       "  }\n",
       "\n",
       "  var js_urls = [\"https://cdn.pydata.org/bokeh/release/bokeh-0.13.0.min.js\", \"https://cdn.pydata.org/bokeh/release/bokeh-widgets-0.13.0.min.js\", \"https://cdn.pydata.org/bokeh/release/bokeh-tables-0.13.0.min.js\", \"https://cdn.pydata.org/bokeh/release/bokeh-gl-0.13.0.min.js\"];\n",
       "\n",
       "  var inline_js = [\n",
       "    function(Bokeh) {\n",
       "      Bokeh.set_log_level(\"info\");\n",
       "    },\n",
       "    \n",
       "    function(Bokeh) {\n",
       "      \n",
       "    },\n",
       "    function(Bokeh) {\n",
       "      console.log(\"Bokeh: injecting CSS: https://cdn.pydata.org/bokeh/release/bokeh-0.13.0.min.css\");\n",
       "      Bokeh.embed.inject_css(\"https://cdn.pydata.org/bokeh/release/bokeh-0.13.0.min.css\");\n",
       "      console.log(\"Bokeh: injecting CSS: https://cdn.pydata.org/bokeh/release/bokeh-widgets-0.13.0.min.css\");\n",
       "      Bokeh.embed.inject_css(\"https://cdn.pydata.org/bokeh/release/bokeh-widgets-0.13.0.min.css\");\n",
       "      console.log(\"Bokeh: injecting CSS: https://cdn.pydata.org/bokeh/release/bokeh-tables-0.13.0.min.css\");\n",
       "      Bokeh.embed.inject_css(\"https://cdn.pydata.org/bokeh/release/bokeh-tables-0.13.0.min.css\");\n",
       "    }\n",
       "  ];\n",
       "\n",
       "  function run_inline_js() {\n",
       "    \n",
       "    if ((root.Bokeh !== undefined) || (force === true)) {\n",
       "      for (var i = 0; i < inline_js.length; i++) {\n",
       "        inline_js[i].call(root, root.Bokeh);\n",
       "      }if (force === true) {\n",
       "        display_loaded();\n",
       "      }} else if (Date.now() < root._bokeh_timeout) {\n",
       "      setTimeout(run_inline_js, 100);\n",
       "    } else if (!root._bokeh_failed_load) {\n",
       "      console.log(\"Bokeh: BokehJS failed to load within specified timeout.\");\n",
       "      root._bokeh_failed_load = true;\n",
       "    } else if (force !== true) {\n",
       "      var cell = $(document.getElementById(\"c58c56fb-8535-4277-b460-988cbcd9fe0e\")).parents('.cell').data().cell;\n",
       "      cell.output_area.append_execute_result(NB_LOAD_WARNING)\n",
       "    }\n",
       "\n",
       "  }\n",
       "\n",
       "  if (root._bokeh_is_loading === 0) {\n",
       "    console.log(\"Bokeh: BokehJS loaded, going straight to plotting\");\n",
       "    run_inline_js();\n",
       "  } else {\n",
       "    load_libs(js_urls, function() {\n",
       "      console.log(\"Bokeh: BokehJS plotting callback run at\", now());\n",
       "      run_inline_js();\n",
       "    });\n",
       "  }\n",
       "}(window));"
      ],
      "application/vnd.bokehjs_load.v0+json": "\n(function(root) {\n  function now() {\n    return new Date();\n  }\n\n  var force = true;\n\n  if (typeof (root._bokeh_onload_callbacks) === \"undefined\" || force === true) {\n    root._bokeh_onload_callbacks = [];\n    root._bokeh_is_loading = undefined;\n  }\n\n  \n\n  \n  if (typeof (root._bokeh_timeout) === \"undefined\" || force === true) {\n    root._bokeh_timeout = Date.now() + 5000;\n    root._bokeh_failed_load = false;\n  }\n\n  var NB_LOAD_WARNING = {'data': {'text/html':\n     \"<div style='background-color: #fdd'>\\n\"+\n     \"<p>\\n\"+\n     \"BokehJS does not appear to have successfully loaded. If loading BokehJS from CDN, this \\n\"+\n     \"may be due to a slow or bad network connection. Possible fixes:\\n\"+\n     \"</p>\\n\"+\n     \"<ul>\\n\"+\n     \"<li>re-rerun `output_notebook()` to attempt to load from CDN again, or</li>\\n\"+\n     \"<li>use INLINE resources instead, as so:</li>\\n\"+\n     \"</ul>\\n\"+\n     \"<code>\\n\"+\n     \"from bokeh.resources import INLINE\\n\"+\n     \"output_notebook(resources=INLINE)\\n\"+\n     \"</code>\\n\"+\n     \"</div>\"}};\n\n  function display_loaded() {\n    var el = document.getElementById(\"c58c56fb-8535-4277-b460-988cbcd9fe0e\");\n    if (el != null) {\n      el.textContent = \"BokehJS is loading...\";\n    }\n    if (root.Bokeh !== undefined) {\n      if (el != null) {\n        el.textContent = \"BokehJS \" + root.Bokeh.version + \" successfully loaded.\";\n      }\n    } else if (Date.now() < root._bokeh_timeout) {\n      setTimeout(display_loaded, 100)\n    }\n  }\n\n\n  function run_callbacks() {\n    try {\n      root._bokeh_onload_callbacks.forEach(function(callback) { callback() });\n    }\n    finally {\n      delete root._bokeh_onload_callbacks\n    }\n    console.info(\"Bokeh: all callbacks have finished\");\n  }\n\n  function load_libs(js_urls, callback) {\n    root._bokeh_onload_callbacks.push(callback);\n    if (root._bokeh_is_loading > 0) {\n      console.log(\"Bokeh: BokehJS is being loaded, scheduling callback at\", now());\n      return null;\n    }\n    if (js_urls == null || js_urls.length === 0) {\n      run_callbacks();\n      return null;\n    }\n    console.log(\"Bokeh: BokehJS not loaded, scheduling load and callback at\", now());\n    root._bokeh_is_loading = js_urls.length;\n    for (var i = 0; i < js_urls.length; i++) {\n      var url = js_urls[i];\n      var s = document.createElement('script');\n      s.src = url;\n      s.async = false;\n      s.onreadystatechange = s.onload = function() {\n        root._bokeh_is_loading--;\n        if (root._bokeh_is_loading === 0) {\n          console.log(\"Bokeh: all BokehJS libraries loaded\");\n          run_callbacks()\n        }\n      };\n      s.onerror = function() {\n        console.warn(\"failed to load library \" + url);\n      };\n      console.log(\"Bokeh: injecting script tag for BokehJS library: \", url);\n      document.getElementsByTagName(\"head\")[0].appendChild(s);\n    }\n  };var element = document.getElementById(\"c58c56fb-8535-4277-b460-988cbcd9fe0e\");\n  if (element == null) {\n    console.log(\"Bokeh: ERROR: autoload.js configured with elementid 'c58c56fb-8535-4277-b460-988cbcd9fe0e' but no matching script tag was found. \")\n    return false;\n  }\n\n  var js_urls = [\"https://cdn.pydata.org/bokeh/release/bokeh-0.13.0.min.js\", \"https://cdn.pydata.org/bokeh/release/bokeh-widgets-0.13.0.min.js\", \"https://cdn.pydata.org/bokeh/release/bokeh-tables-0.13.0.min.js\", \"https://cdn.pydata.org/bokeh/release/bokeh-gl-0.13.0.min.js\"];\n\n  var inline_js = [\n    function(Bokeh) {\n      Bokeh.set_log_level(\"info\");\n    },\n    \n    function(Bokeh) {\n      \n    },\n    function(Bokeh) {\n      console.log(\"Bokeh: injecting CSS: https://cdn.pydata.org/bokeh/release/bokeh-0.13.0.min.css\");\n      Bokeh.embed.inject_css(\"https://cdn.pydata.org/bokeh/release/bokeh-0.13.0.min.css\");\n      console.log(\"Bokeh: injecting CSS: https://cdn.pydata.org/bokeh/release/bokeh-widgets-0.13.0.min.css\");\n      Bokeh.embed.inject_css(\"https://cdn.pydata.org/bokeh/release/bokeh-widgets-0.13.0.min.css\");\n      console.log(\"Bokeh: injecting CSS: https://cdn.pydata.org/bokeh/release/bokeh-tables-0.13.0.min.css\");\n      Bokeh.embed.inject_css(\"https://cdn.pydata.org/bokeh/release/bokeh-tables-0.13.0.min.css\");\n    }\n  ];\n\n  function run_inline_js() {\n    \n    if ((root.Bokeh !== undefined) || (force === true)) {\n      for (var i = 0; i < inline_js.length; i++) {\n        inline_js[i].call(root, root.Bokeh);\n      }if (force === true) {\n        display_loaded();\n      }} else if (Date.now() < root._bokeh_timeout) {\n      setTimeout(run_inline_js, 100);\n    } else if (!root._bokeh_failed_load) {\n      console.log(\"Bokeh: BokehJS failed to load within specified timeout.\");\n      root._bokeh_failed_load = true;\n    } else if (force !== true) {\n      var cell = $(document.getElementById(\"c58c56fb-8535-4277-b460-988cbcd9fe0e\")).parents('.cell').data().cell;\n      cell.output_area.append_execute_result(NB_LOAD_WARNING)\n    }\n\n  }\n\n  if (root._bokeh_is_loading === 0) {\n    console.log(\"Bokeh: BokehJS loaded, going straight to plotting\");\n    run_inline_js();\n  } else {\n    load_libs(js_urls, function() {\n      console.log(\"Bokeh: BokehJS plotting callback run at\", now());\n      run_inline_js();\n    });\n  }\n}(window));"
     },
     "metadata": {},
     "output_type": "display_data"
    },
    {
     "data": {
      "text/html": [
       "\n",
       "\n",
       "\n",
       "\n",
       "\n",
       "\n",
       "  <div class=\"bk-root\" id=\"9e46c284-79df-4cdd-9ed1-fde9f3a5400e\"></div>\n"
      ]
     },
     "metadata": {},
     "output_type": "display_data"
    },
    {
     "data": {
      "application/javascript": [
       "(function(root) {\n",
       "  function embed_document(root) {\n",
       "    \n",
       "  var docs_json = {\"f791b720-c585-4691-a600-351b81ab3e7b\":{\"roots\":{\"references\":[{\"attributes\":{},\"id\":\"83520a12-500f-4cdc-baae-817112a1180e\",\"type\":\"UnionRenderers\"},{\"attributes\":{},\"id\":\"ca78befc-b2b5-46b6-88a6-1690e9fd0328\",\"type\":\"CategoricalTicker\"},{\"attributes\":{\"below\":[{\"id\":\"4209b941-f9c1-4f66-83b3-eaba05214433\",\"type\":\"CategoricalAxis\"}],\"left\":[{\"id\":\"f163c28f-39e1-4d5e-8732-e1b1d7c67530\",\"type\":\"LinearAxis\"}],\"renderers\":[{\"id\":\"4209b941-f9c1-4f66-83b3-eaba05214433\",\"type\":\"CategoricalAxis\"},{\"id\":\"88704a62-821a-4d08-9ee8-7fb421cd4b0e\",\"type\":\"Grid\"},{\"id\":\"f163c28f-39e1-4d5e-8732-e1b1d7c67530\",\"type\":\"LinearAxis\"},{\"id\":\"51562eca-df58-4ce6-bffb-cabca25366cb\",\"type\":\"Grid\"},{\"id\":\"d7158c01-d912-44fa-888c-2611feb2c63a\",\"type\":\"BoxAnnotation\"},{\"id\":\"d74297d3-e4d6-410f-81e3-fc6eb87de407\",\"type\":\"GlyphRenderer\"}],\"title\":{\"id\":\"7081d597-34f5-4c71-955f-fd63c11212a9\",\"type\":\"Title\"},\"toolbar\":{\"id\":\"4d3261c2-61f3-4293-bb61-dfc2cb76066b\",\"type\":\"Toolbar\"},\"toolbar_location\":null,\"x_range\":{\"id\":\"3c93e7a6-cec7-4467-a31d-3622cc7519ac\",\"type\":\"FactorRange\"},\"x_scale\":{\"id\":\"8a1caf57-5c91-401f-b835-cd9a66f349a8\",\"type\":\"CategoricalScale\"},\"y_range\":{\"id\":\"bb1c0b23-b1cb-42b2-bf6e-6c3dd862959c\",\"type\":\"DataRange1d\"},\"y_scale\":{\"id\":\"29ddf635-8375-482a-b4d5-4dcc7ffbca4d\",\"type\":\"LinearScale\"}},\"id\":\"ee79483a-f543-4c0c-9afa-9b0602d39753\",\"subtype\":\"Figure\",\"type\":\"Plot\"},{\"attributes\":{\"callback\":null,\"data\":{\"Name\":[\"Tucson\",\"Nashville\",\"Oklahoma City\",\"Las Vegas\",\"Portland\",\"Washington\",\"Denver\",\"Seattle\",\"Boston\",\"Milwaukee\",\"El Paso\",\"Charlotte\",\"Baltimore\",\"Fort Worth\",\"Memphis\",\"Austin\",\"San Francisco\",\"Columbus\",\"Indianapolis\",\"Jacksonville\",\"Detroit\",\"San Jose\",\"Dallas\",\"San Antonio\",\"San Diego\",\"Phoenix\",\"Philadelphia\",\"Houston\",\"Chicago\",\"Los Angeles\",\"New York\"],\"Population\":{\"__ndarray__\":\"jEtV2uKa4D+lhGBVvfzgPwTnjCjtDeE/JLcm3ZZI4T/aAkLr4UvhP7plh/iHreE/51CGqpjK4T8wZktWRTjiPwlwehfvR+I/uOnPfqSI4j/IXBlUGxzjP7fsEP+wJeM/wmosYW2M4z+/KEF/ocfjP1JDG4ANiOQ/yeTUzjC15T9rJ0pCIm3nP55+UBcplOc/R7Bx/bu+6D+VRPZBloXpPxR3vMlvUew/K/uuCP637D8L68a7I2PzP3mSdM3kG/Q/nRGlvcGX9D+oqtBALNv2P1osRfKVQPc/bqetEcE4AEASaoZUUbwGQEj8ijVcBA9AJm4VxEA3IEA=\",\"dtype\":\"float64\",\"shape\":[31]}},\"selected\":{\"id\":\"f268d6ea-47f3-4d21-a597-0f24bdfac2d9\",\"type\":\"Selection\"},\"selection_policy\":{\"id\":\"83520a12-500f-4cdc-baae-817112a1180e\",\"type\":\"UnionRenderers\"}},\"id\":\"b9bcf2eb-f8fe-4c15-873c-aec6a1d4d179\",\"type\":\"ColumnDataSource\"},{\"attributes\":{\"bottom_units\":\"screen\",\"fill_alpha\":{\"value\":0.5},\"fill_color\":{\"value\":\"lightgrey\"},\"left_units\":\"screen\",\"level\":\"overlay\",\"line_alpha\":{\"value\":1.0},\"line_color\":{\"value\":\"black\"},\"line_dash\":[4,4],\"line_width\":{\"value\":2},\"plot\":null,\"render_mode\":\"css\",\"right_units\":\"screen\",\"top_units\":\"screen\"},\"id\":\"d7158c01-d912-44fa-888c-2611feb2c63a\",\"type\":\"BoxAnnotation\"},{\"attributes\":{},\"id\":\"4c668a59-7fed-4944-b946-11c3e43b5c30\",\"type\":\"PanTool\"},{\"attributes\":{},\"id\":\"3a829cc9-3c46-4739-9568-c156cf7c29f9\",\"type\":\"CategoricalTickFormatter\"},{\"attributes\":{\"callback\":null,\"factors\":[\"Tucson\",\"Nashville\",\"Oklahoma City\",\"Las Vegas\",\"Portland\",\"Washington\",\"Denver\",\"Seattle\",\"Boston\",\"Milwaukee\",\"El Paso\",\"Charlotte\",\"Baltimore\",\"Fort Worth\",\"Memphis\",\"Austin\",\"San Francisco\",\"Columbus\",\"Indianapolis\",\"Jacksonville\",\"Detroit\",\"San Jose\",\"Dallas\",\"San Antonio\",\"San Diego\",\"Phoenix\",\"Philadelphia\",\"Houston\",\"Chicago\",\"Los Angeles\",\"New York\"]},\"id\":\"3c93e7a6-cec7-4467-a31d-3622cc7519ac\",\"type\":\"FactorRange\"},{\"attributes\":{},\"id\":\"3e015455-c96d-4f4b-9291-b2cf667fc224\",\"type\":\"WheelZoomTool\"},{\"attributes\":{\"source\":{\"id\":\"b9bcf2eb-f8fe-4c15-873c-aec6a1d4d179\",\"type\":\"ColumnDataSource\"}},\"id\":\"b8b9bab9-002c-4611-8a40-19bc19e66471\",\"type\":\"CDSView\"},{\"attributes\":{\"plot\":null,\"text\":\"\"},\"id\":\"7081d597-34f5-4c71-955f-fd63c11212a9\",\"type\":\"Title\"},{\"attributes\":{\"overlay\":{\"id\":\"d7158c01-d912-44fa-888c-2611feb2c63a\",\"type\":\"BoxAnnotation\"}},\"id\":\"e360dffc-ab76-4f16-9043-64915ba294ec\",\"type\":\"BoxZoomTool\"},{\"attributes\":{\"callback\":null},\"id\":\"bb1c0b23-b1cb-42b2-bf6e-6c3dd862959c\",\"type\":\"DataRange1d\"},{\"attributes\":{\"data_source\":{\"id\":\"b9bcf2eb-f8fe-4c15-873c-aec6a1d4d179\",\"type\":\"ColumnDataSource\"},\"glyph\":{\"id\":\"ef631f27-93e7-499d-97d7-709456adfb86\",\"type\":\"VBar\"},\"hover_glyph\":null,\"muted_glyph\":null,\"nonselection_glyph\":{\"id\":\"100d60cf-fb60-4bf6-a2b1-1a14fdc45c67\",\"type\":\"VBar\"},\"selection_glyph\":null,\"view\":{\"id\":\"b8b9bab9-002c-4611-8a40-19bc19e66471\",\"type\":\"CDSView\"}},\"id\":\"d74297d3-e4d6-410f-81e3-fc6eb87de407\",\"type\":\"GlyphRenderer\"},{\"attributes\":{},\"id\":\"8a1caf57-5c91-401f-b835-cd9a66f349a8\",\"type\":\"CategoricalScale\"},{\"attributes\":{},\"id\":\"29ddf635-8375-482a-b4d5-4dcc7ffbca4d\",\"type\":\"LinearScale\"},{\"attributes\":{\"active_drag\":\"auto\",\"active_inspect\":\"auto\",\"active_multi\":null,\"active_scroll\":\"auto\",\"active_tap\":\"auto\",\"tools\":[{\"id\":\"4c668a59-7fed-4944-b946-11c3e43b5c30\",\"type\":\"PanTool\"},{\"id\":\"3e015455-c96d-4f4b-9291-b2cf667fc224\",\"type\":\"WheelZoomTool\"},{\"id\":\"e360dffc-ab76-4f16-9043-64915ba294ec\",\"type\":\"BoxZoomTool\"},{\"id\":\"22dde006-c5f4-4709-9c48-b45d6282ef88\",\"type\":\"SaveTool\"},{\"id\":\"c49e205d-4f74-47cb-bb8b-e83cb0a33b62\",\"type\":\"ResetTool\"},{\"id\":\"a5ccbf53-4c56-4e0d-ad89-55c6b6738f42\",\"type\":\"HelpTool\"}]},\"id\":\"4d3261c2-61f3-4293-bb61-dfc2cb76066b\",\"type\":\"Toolbar\"},{\"attributes\":{},\"id\":\"22dde006-c5f4-4709-9c48-b45d6282ef88\",\"type\":\"SaveTool\"},{\"attributes\":{\"plot\":{\"id\":\"ee79483a-f543-4c0c-9afa-9b0602d39753\",\"subtype\":\"Figure\",\"type\":\"Plot\"},\"ticker\":{\"id\":\"ca78befc-b2b5-46b6-88a6-1690e9fd0328\",\"type\":\"CategoricalTicker\"}},\"id\":\"88704a62-821a-4d08-9ee8-7fb421cd4b0e\",\"type\":\"Grid\"},{\"attributes\":{},\"id\":\"c49e205d-4f74-47cb-bb8b-e83cb0a33b62\",\"type\":\"ResetTool\"},{\"attributes\":{\"formatter\":{\"id\":\"3a829cc9-3c46-4739-9568-c156cf7c29f9\",\"type\":\"CategoricalTickFormatter\"},\"major_label_orientation\":\"vertical\",\"plot\":{\"id\":\"ee79483a-f543-4c0c-9afa-9b0602d39753\",\"subtype\":\"Figure\",\"type\":\"Plot\"},\"ticker\":{\"id\":\"ca78befc-b2b5-46b6-88a6-1690e9fd0328\",\"type\":\"CategoricalTicker\"}},\"id\":\"4209b941-f9c1-4f66-83b3-eaba05214433\",\"type\":\"CategoricalAxis\"},{\"attributes\":{},\"id\":\"a5ccbf53-4c56-4e0d-ad89-55c6b6738f42\",\"type\":\"HelpTool\"},{\"attributes\":{\"formatter\":{\"id\":\"41a46293-944b-4324-a788-22e9bd4e3e30\",\"type\":\"BasicTickFormatter\"},\"plot\":{\"id\":\"ee79483a-f543-4c0c-9afa-9b0602d39753\",\"subtype\":\"Figure\",\"type\":\"Plot\"},\"ticker\":{\"id\":\"bdf2e82d-5935-410a-8b89-7a2803b74865\",\"type\":\"BasicTicker\"}},\"id\":\"f163c28f-39e1-4d5e-8732-e1b1d7c67530\",\"type\":\"LinearAxis\"},{\"attributes\":{\"fill_alpha\":{\"value\":0.1},\"fill_color\":{\"value\":\"#1f77b4\"},\"line_alpha\":{\"value\":0.1},\"line_color\":{\"value\":\"#1f77b4\"},\"top\":{\"field\":\"Population\"},\"width\":{\"value\":0.9},\"x\":{\"field\":\"Name\"}},\"id\":\"100d60cf-fb60-4bf6-a2b1-1a14fdc45c67\",\"type\":\"VBar\"},{\"attributes\":{},\"id\":\"41a46293-944b-4324-a788-22e9bd4e3e30\",\"type\":\"BasicTickFormatter\"},{\"attributes\":{\"fill_color\":{\"value\":\"#1f77b4\"},\"line_color\":{\"value\":\"white\"},\"top\":{\"field\":\"Population\"},\"width\":{\"value\":0.9},\"x\":{\"field\":\"Name\"}},\"id\":\"ef631f27-93e7-499d-97d7-709456adfb86\",\"type\":\"VBar\"},{\"attributes\":{},\"id\":\"bdf2e82d-5935-410a-8b89-7a2803b74865\",\"type\":\"BasicTicker\"},{\"attributes\":{\"dimension\":1,\"plot\":{\"id\":\"ee79483a-f543-4c0c-9afa-9b0602d39753\",\"subtype\":\"Figure\",\"type\":\"Plot\"},\"ticker\":{\"id\":\"bdf2e82d-5935-410a-8b89-7a2803b74865\",\"type\":\"BasicTicker\"}},\"id\":\"51562eca-df58-4ce6-bffb-cabca25366cb\",\"type\":\"Grid\"},{\"attributes\":{},\"id\":\"f268d6ea-47f3-4d21-a597-0f24bdfac2d9\",\"type\":\"Selection\"}],\"root_ids\":[\"ee79483a-f543-4c0c-9afa-9b0602d39753\"]},\"title\":\"Bokeh Application\",\"version\":\"0.13.0\"}};\n",
       "  var render_items = [{\"docid\":\"f791b720-c585-4691-a600-351b81ab3e7b\",\"roots\":{\"ee79483a-f543-4c0c-9afa-9b0602d39753\":\"9e46c284-79df-4cdd-9ed1-fde9f3a5400e\"}}];\n",
       "  root.Bokeh.embed.embed_items_notebook(docs_json, render_items);\n",
       "\n",
       "  }\n",
       "  if (root.Bokeh !== undefined) {\n",
       "    embed_document(root);\n",
       "  } else {\n",
       "    var attempts = 0;\n",
       "    var timer = setInterval(function(root) {\n",
       "      if (root.Bokeh !== undefined) {\n",
       "        embed_document(root);\n",
       "        clearInterval(timer);\n",
       "      }\n",
       "      attempts++;\n",
       "      if (attempts > 100) {\n",
       "        console.log(\"Bokeh: ERROR: Unable to run BokehJS code because BokehJS library is missing\")\n",
       "        clearInterval(timer);\n",
       "      }\n",
       "    }, 10, root)\n",
       "  }\n",
       "})(window);"
      ],
      "application/vnd.bokehjs_exec.v0+json": ""
     },
     "metadata": {
      "application/vnd.bokehjs_exec.v0+json": {
       "id": "ee79483a-f543-4c0c-9afa-9b0602d39753"
      }
     },
     "output_type": "display_data"
    }
   ],
   "source": [
    "from bokeh.io import show, output_notebook\n",
    "from bokeh.plotting import figure\n",
    "\n",
    "output_notebook()\n",
    "\n",
    "p = figure(x_range=list(large_cities.index),  toolbar_location=None)\n",
    "p.vbar(x='Name', top='Population', width=0.9, source=large_cities,  \n",
    "       line_color='white')\n",
    "p.xaxis.major_label_orientation = \"vertical\"\n",
    "\n",
    "show(p)"
   ]
  },
  {
   "cell_type": "markdown",
   "metadata": {},
   "source": [
    "If we want the labels to be oriented the same way as we got above, we can do a neat trick by manually specifying the rotation. "
   ]
  },
  {
   "cell_type": "code",
   "execution_count": 12,
   "metadata": {},
   "outputs": [
    {
     "data": {
      "text/html": [
       "\n",
       "\n",
       "\n",
       "\n",
       "\n",
       "\n",
       "  <div class=\"bk-root\" id=\"4005dc31-f772-4c55-8567-ed0245595744\"></div>\n"
      ]
     },
     "metadata": {},
     "output_type": "display_data"
    },
    {
     "data": {
      "application/javascript": [
       "(function(root) {\n",
       "  function embed_document(root) {\n",
       "    \n",
       "  var docs_json = {\"77dba9f7-e7b5-4f76-9d01-08d208269dd3\":{\"roots\":{\"references\":[{\"attributes\":{},\"id\":\"83520a12-500f-4cdc-baae-817112a1180e\",\"type\":\"UnionRenderers\"},{\"attributes\":{},\"id\":\"ca78befc-b2b5-46b6-88a6-1690e9fd0328\",\"type\":\"CategoricalTicker\"},{\"attributes\":{\"below\":[{\"id\":\"4209b941-f9c1-4f66-83b3-eaba05214433\",\"type\":\"CategoricalAxis\"}],\"left\":[{\"id\":\"f163c28f-39e1-4d5e-8732-e1b1d7c67530\",\"type\":\"LinearAxis\"}],\"renderers\":[{\"id\":\"4209b941-f9c1-4f66-83b3-eaba05214433\",\"type\":\"CategoricalAxis\"},{\"id\":\"88704a62-821a-4d08-9ee8-7fb421cd4b0e\",\"type\":\"Grid\"},{\"id\":\"f163c28f-39e1-4d5e-8732-e1b1d7c67530\",\"type\":\"LinearAxis\"},{\"id\":\"51562eca-df58-4ce6-bffb-cabca25366cb\",\"type\":\"Grid\"},{\"id\":\"d7158c01-d912-44fa-888c-2611feb2c63a\",\"type\":\"BoxAnnotation\"},{\"id\":\"d74297d3-e4d6-410f-81e3-fc6eb87de407\",\"type\":\"GlyphRenderer\"}],\"title\":{\"id\":\"7081d597-34f5-4c71-955f-fd63c11212a9\",\"type\":\"Title\"},\"toolbar\":{\"id\":\"4d3261c2-61f3-4293-bb61-dfc2cb76066b\",\"type\":\"Toolbar\"},\"toolbar_location\":null,\"x_range\":{\"id\":\"3c93e7a6-cec7-4467-a31d-3622cc7519ac\",\"type\":\"FactorRange\"},\"x_scale\":{\"id\":\"8a1caf57-5c91-401f-b835-cd9a66f349a8\",\"type\":\"CategoricalScale\"},\"y_range\":{\"id\":\"bb1c0b23-b1cb-42b2-bf6e-6c3dd862959c\",\"type\":\"DataRange1d\"},\"y_scale\":{\"id\":\"29ddf635-8375-482a-b4d5-4dcc7ffbca4d\",\"type\":\"LinearScale\"}},\"id\":\"ee79483a-f543-4c0c-9afa-9b0602d39753\",\"subtype\":\"Figure\",\"type\":\"Plot\"},{\"attributes\":{\"callback\":null,\"data\":{\"Name\":[\"Tucson\",\"Nashville\",\"Oklahoma City\",\"Las Vegas\",\"Portland\",\"Washington\",\"Denver\",\"Seattle\",\"Boston\",\"Milwaukee\",\"El Paso\",\"Charlotte\",\"Baltimore\",\"Fort Worth\",\"Memphis\",\"Austin\",\"San Francisco\",\"Columbus\",\"Indianapolis\",\"Jacksonville\",\"Detroit\",\"San Jose\",\"Dallas\",\"San Antonio\",\"San Diego\",\"Phoenix\",\"Philadelphia\",\"Houston\",\"Chicago\",\"Los Angeles\",\"New York\"],\"Population\":{\"__ndarray__\":\"jEtV2uKa4D+lhGBVvfzgPwTnjCjtDeE/JLcm3ZZI4T/aAkLr4UvhP7plh/iHreE/51CGqpjK4T8wZktWRTjiPwlwehfvR+I/uOnPfqSI4j/IXBlUGxzjP7fsEP+wJeM/wmosYW2M4z+/KEF/ocfjP1JDG4ANiOQ/yeTUzjC15T9rJ0pCIm3nP55+UBcplOc/R7Bx/bu+6D+VRPZBloXpPxR3vMlvUew/K/uuCP637D8L68a7I2PzP3mSdM3kG/Q/nRGlvcGX9D+oqtBALNv2P1osRfKVQPc/bqetEcE4AEASaoZUUbwGQEj8ijVcBA9AJm4VxEA3IEA=\",\"dtype\":\"float64\",\"shape\":[31]}},\"selected\":{\"id\":\"f268d6ea-47f3-4d21-a597-0f24bdfac2d9\",\"type\":\"Selection\"},\"selection_policy\":{\"id\":\"83520a12-500f-4cdc-baae-817112a1180e\",\"type\":\"UnionRenderers\"}},\"id\":\"b9bcf2eb-f8fe-4c15-873c-aec6a1d4d179\",\"type\":\"ColumnDataSource\"},{\"attributes\":{\"bottom_units\":\"screen\",\"fill_alpha\":{\"value\":0.5},\"fill_color\":{\"value\":\"lightgrey\"},\"left_units\":\"screen\",\"level\":\"overlay\",\"line_alpha\":{\"value\":1.0},\"line_color\":{\"value\":\"black\"},\"line_dash\":[4,4],\"line_width\":{\"value\":2},\"plot\":null,\"render_mode\":\"css\",\"right_units\":\"screen\",\"top_units\":\"screen\"},\"id\":\"d7158c01-d912-44fa-888c-2611feb2c63a\",\"type\":\"BoxAnnotation\"},{\"attributes\":{},\"id\":\"4c668a59-7fed-4944-b946-11c3e43b5c30\",\"type\":\"PanTool\"},{\"attributes\":{},\"id\":\"3a829cc9-3c46-4739-9568-c156cf7c29f9\",\"type\":\"CategoricalTickFormatter\"},{\"attributes\":{\"callback\":null,\"factors\":[\"Tucson\",\"Nashville\",\"Oklahoma City\",\"Las Vegas\",\"Portland\",\"Washington\",\"Denver\",\"Seattle\",\"Boston\",\"Milwaukee\",\"El Paso\",\"Charlotte\",\"Baltimore\",\"Fort Worth\",\"Memphis\",\"Austin\",\"San Francisco\",\"Columbus\",\"Indianapolis\",\"Jacksonville\",\"Detroit\",\"San Jose\",\"Dallas\",\"San Antonio\",\"San Diego\",\"Phoenix\",\"Philadelphia\",\"Houston\",\"Chicago\",\"Los Angeles\",\"New York\"]},\"id\":\"3c93e7a6-cec7-4467-a31d-3622cc7519ac\",\"type\":\"FactorRange\"},{\"attributes\":{},\"id\":\"3e015455-c96d-4f4b-9291-b2cf667fc224\",\"type\":\"WheelZoomTool\"},{\"attributes\":{\"source\":{\"id\":\"b9bcf2eb-f8fe-4c15-873c-aec6a1d4d179\",\"type\":\"ColumnDataSource\"}},\"id\":\"b8b9bab9-002c-4611-8a40-19bc19e66471\",\"type\":\"CDSView\"},{\"attributes\":{\"plot\":null,\"text\":\"\"},\"id\":\"7081d597-34f5-4c71-955f-fd63c11212a9\",\"type\":\"Title\"},{\"attributes\":{\"overlay\":{\"id\":\"d7158c01-d912-44fa-888c-2611feb2c63a\",\"type\":\"BoxAnnotation\"}},\"id\":\"e360dffc-ab76-4f16-9043-64915ba294ec\",\"type\":\"BoxZoomTool\"},{\"attributes\":{\"callback\":null},\"id\":\"bb1c0b23-b1cb-42b2-bf6e-6c3dd862959c\",\"type\":\"DataRange1d\"},{\"attributes\":{\"data_source\":{\"id\":\"b9bcf2eb-f8fe-4c15-873c-aec6a1d4d179\",\"type\":\"ColumnDataSource\"},\"glyph\":{\"id\":\"ef631f27-93e7-499d-97d7-709456adfb86\",\"type\":\"VBar\"},\"hover_glyph\":null,\"muted_glyph\":null,\"nonselection_glyph\":{\"id\":\"100d60cf-fb60-4bf6-a2b1-1a14fdc45c67\",\"type\":\"VBar\"},\"selection_glyph\":null,\"view\":{\"id\":\"b8b9bab9-002c-4611-8a40-19bc19e66471\",\"type\":\"CDSView\"}},\"id\":\"d74297d3-e4d6-410f-81e3-fc6eb87de407\",\"type\":\"GlyphRenderer\"},{\"attributes\":{},\"id\":\"8a1caf57-5c91-401f-b835-cd9a66f349a8\",\"type\":\"CategoricalScale\"},{\"attributes\":{},\"id\":\"29ddf635-8375-482a-b4d5-4dcc7ffbca4d\",\"type\":\"LinearScale\"},{\"attributes\":{\"active_drag\":\"auto\",\"active_inspect\":\"auto\",\"active_multi\":null,\"active_scroll\":\"auto\",\"active_tap\":\"auto\",\"tools\":[{\"id\":\"4c668a59-7fed-4944-b946-11c3e43b5c30\",\"type\":\"PanTool\"},{\"id\":\"3e015455-c96d-4f4b-9291-b2cf667fc224\",\"type\":\"WheelZoomTool\"},{\"id\":\"e360dffc-ab76-4f16-9043-64915ba294ec\",\"type\":\"BoxZoomTool\"},{\"id\":\"22dde006-c5f4-4709-9c48-b45d6282ef88\",\"type\":\"SaveTool\"},{\"id\":\"c49e205d-4f74-47cb-bb8b-e83cb0a33b62\",\"type\":\"ResetTool\"},{\"id\":\"a5ccbf53-4c56-4e0d-ad89-55c6b6738f42\",\"type\":\"HelpTool\"}]},\"id\":\"4d3261c2-61f3-4293-bb61-dfc2cb76066b\",\"type\":\"Toolbar\"},{\"attributes\":{},\"id\":\"22dde006-c5f4-4709-9c48-b45d6282ef88\",\"type\":\"SaveTool\"},{\"attributes\":{\"plot\":{\"id\":\"ee79483a-f543-4c0c-9afa-9b0602d39753\",\"subtype\":\"Figure\",\"type\":\"Plot\"},\"ticker\":{\"id\":\"ca78befc-b2b5-46b6-88a6-1690e9fd0328\",\"type\":\"CategoricalTicker\"}},\"id\":\"88704a62-821a-4d08-9ee8-7fb421cd4b0e\",\"type\":\"Grid\"},{\"attributes\":{},\"id\":\"c49e205d-4f74-47cb-bb8b-e83cb0a33b62\",\"type\":\"ResetTool\"},{\"attributes\":{\"formatter\":{\"id\":\"3a829cc9-3c46-4739-9568-c156cf7c29f9\",\"type\":\"CategoricalTickFormatter\"},\"major_label_orientation\":1.570795,\"plot\":{\"id\":\"ee79483a-f543-4c0c-9afa-9b0602d39753\",\"subtype\":\"Figure\",\"type\":\"Plot\"},\"ticker\":{\"id\":\"ca78befc-b2b5-46b6-88a6-1690e9fd0328\",\"type\":\"CategoricalTicker\"}},\"id\":\"4209b941-f9c1-4f66-83b3-eaba05214433\",\"type\":\"CategoricalAxis\"},{\"attributes\":{},\"id\":\"a5ccbf53-4c56-4e0d-ad89-55c6b6738f42\",\"type\":\"HelpTool\"},{\"attributes\":{\"formatter\":{\"id\":\"41a46293-944b-4324-a788-22e9bd4e3e30\",\"type\":\"BasicTickFormatter\"},\"plot\":{\"id\":\"ee79483a-f543-4c0c-9afa-9b0602d39753\",\"subtype\":\"Figure\",\"type\":\"Plot\"},\"ticker\":{\"id\":\"bdf2e82d-5935-410a-8b89-7a2803b74865\",\"type\":\"BasicTicker\"}},\"id\":\"f163c28f-39e1-4d5e-8732-e1b1d7c67530\",\"type\":\"LinearAxis\"},{\"attributes\":{\"fill_alpha\":{\"value\":0.1},\"fill_color\":{\"value\":\"#1f77b4\"},\"line_alpha\":{\"value\":0.1},\"line_color\":{\"value\":\"#1f77b4\"},\"top\":{\"field\":\"Population\"},\"width\":{\"value\":0.9},\"x\":{\"field\":\"Name\"}},\"id\":\"100d60cf-fb60-4bf6-a2b1-1a14fdc45c67\",\"type\":\"VBar\"},{\"attributes\":{},\"id\":\"41a46293-944b-4324-a788-22e9bd4e3e30\",\"type\":\"BasicTickFormatter\"},{\"attributes\":{\"fill_color\":{\"value\":\"#1f77b4\"},\"line_color\":{\"value\":\"white\"},\"top\":{\"field\":\"Population\"},\"width\":{\"value\":0.9},\"x\":{\"field\":\"Name\"}},\"id\":\"ef631f27-93e7-499d-97d7-709456adfb86\",\"type\":\"VBar\"},{\"attributes\":{},\"id\":\"bdf2e82d-5935-410a-8b89-7a2803b74865\",\"type\":\"BasicTicker\"},{\"attributes\":{\"dimension\":1,\"plot\":{\"id\":\"ee79483a-f543-4c0c-9afa-9b0602d39753\",\"subtype\":\"Figure\",\"type\":\"Plot\"},\"ticker\":{\"id\":\"bdf2e82d-5935-410a-8b89-7a2803b74865\",\"type\":\"BasicTicker\"}},\"id\":\"51562eca-df58-4ce6-bffb-cabca25366cb\",\"type\":\"Grid\"},{\"attributes\":{},\"id\":\"f268d6ea-47f3-4d21-a597-0f24bdfac2d9\",\"type\":\"Selection\"}],\"root_ids\":[\"ee79483a-f543-4c0c-9afa-9b0602d39753\"]},\"title\":\"Bokeh Application\",\"version\":\"0.13.0\"}};\n",
       "  var render_items = [{\"docid\":\"77dba9f7-e7b5-4f76-9d01-08d208269dd3\",\"roots\":{\"ee79483a-f543-4c0c-9afa-9b0602d39753\":\"4005dc31-f772-4c55-8567-ed0245595744\"}}];\n",
       "  root.Bokeh.embed.embed_items_notebook(docs_json, render_items);\n",
       "\n",
       "  }\n",
       "  if (root.Bokeh !== undefined) {\n",
       "    embed_document(root);\n",
       "  } else {\n",
       "    var attempts = 0;\n",
       "    var timer = setInterval(function(root) {\n",
       "      if (root.Bokeh !== undefined) {\n",
       "        embed_document(root);\n",
       "        clearInterval(timer);\n",
       "      }\n",
       "      attempts++;\n",
       "      if (attempts > 100) {\n",
       "        console.log(\"Bokeh: ERROR: Unable to run BokehJS code because BokehJS library is missing\")\n",
       "        clearInterval(timer);\n",
       "      }\n",
       "    }, 10, root)\n",
       "  }\n",
       "})(window);"
      ],
      "application/vnd.bokehjs_exec.v0+json": ""
     },
     "metadata": {
      "application/vnd.bokehjs_exec.v0+json": {
       "id": "ee79483a-f543-4c0c-9afa-9b0602d39753"
      }
     },
     "output_type": "display_data"
    }
   ],
   "source": [
    "p.xaxis.major_label_orientation = 3.14159 / 2\n",
    "show(p)"
   ]
  },
  {
   "cell_type": "markdown",
   "metadata": {},
   "source": [
    "Thanks for reading!"
   ]
  },
  {
   "cell_type": "markdown",
   "metadata": {},
   "source": [
    "### References\n",
    "\n",
    "Bokeh bar chart: http://bokeh.pydata.org/en/latest/docs/gallery/bar_colormapped.html\n",
    "\n",
    "Thanks to @bryevdv for dropping some knowledge about how to use Bokeh better."
   ]
  }
 ],
 "metadata": {
  "kernelspec": {
   "display_name": "Python 3",
   "language": "python",
   "name": "python3"
  },
  "language_info": {
   "codemirror_mode": {
    "name": "ipython",
    "version": 3
   },
   "file_extension": ".py",
   "mimetype": "text/x-python",
   "name": "python",
   "nbconvert_exporter": "python",
   "pygments_lexer": "ipython3",
   "version": "3.6.6"
  }
 },
 "nbformat": 4,
 "nbformat_minor": 2
}
