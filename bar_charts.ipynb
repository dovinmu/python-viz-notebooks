{
 "cells": [
  {
   "cell_type": "markdown",
   "metadata": {},
   "source": [
    "# Simple data visualization: the bar chart"
   ]
  },
  {
   "cell_type": "markdown",
   "metadata": {},
   "source": [
    "In this notebook we'll be comparing as many Python visualization libraries as possible with one simple metric: how easy is it to make a bar chart? We'll also look a bit into customization with each library, and explore the pain points a bit. \n",
    "\n",
    "_Note: if you're viewing this on GitHub, charting libraries that output Javascript (Bokeh, Holoviews, Altair) won't display. Try viewing the notebook on [my nbviewer page](http://nbviewer.jupyter.org/github/dovinmu/python-viz-notebooks/tree/master/) instead._\n",
    "\n",
    "First, let's load a pandas DataFrame of the data we'll be using and clean it a bit. There's a CSV in the repository that lists over 4,000 cities and towns in the United States. For now, let's just take the cities that are over a certain size and plop that into various charting libraries. "
   ]
  },
  {
   "cell_type": "code",
   "execution_count": null,
   "metadata": {
    "collapsed": false
   },
   "outputs": [],
   "source": [
    "import pandas\n",
    "%matplotlib inline\n",
    "\n",
    "df = pandas.read_csv('data/US_cities.csv', index_col=\"AccentCity\")\n",
    "# select cities with a population greater than 750,000 and convert units to millions\n",
    "large_cities = df[df[\"Population\"] > 750000][[\"Population\"]] / 1000000\n",
    "# sort the list by population\n",
    "large_cities.sort_values(\"Population\", inplace=True)\n",
    "# we don't care about all the other data, so discard everything but the population\n",
    "large_cities = pandas.Series(large_cities[\"Population\"])\n",
    "# also don't care about the name of the cities column in the CSV\n",
    "del large_cities.index.name\n",
    "\n",
    "large_cities"
   ]
  },
  {
   "cell_type": "markdown",
   "metadata": {},
   "source": [
    "You could debate the decision to change the population values to floats that count millions of people, versus integers that store the exact population number. For our purposes right now, though, we don't need the exact number, and it will remove the headache of tweaking the Y-axis so it's more readable. \n",
    "\n",
    "### Matplotlib\n",
    "Matplotlib is both amazingly versatile, and also generally more verbose than the other packages below (which usually will use it as a backend rendering target for static graphs). You need to manually specify a few things that other packages just handle."
   ]
  },
  {
   "cell_type": "code",
   "execution_count": null,
   "metadata": {
    "collapsed": false
   },
   "outputs": [],
   "source": [
    "import matplotlib.pyplot as plt\n",
    "\n",
    "# manually tell matplotlib where the bars will go, so we'll space them out every 10 pixels\n",
    "left = [i * 10 for i in range(len(large_cities))]\n",
    "plt.bar(left, large_cities.values, width=5, tick_label=large_cities.index)\n",
    "# make the city names vertical so we can read them\n",
    "plt.xticks(rotation=\"vertical\")\n",
    "plt.ylabel(\"Population (m)\")"
   ]
  },
  {
   "cell_type": "markdown",
   "metadata": {},
   "source": [
    "And we get this decent-looking bar chart."
   ]
  },
  {
   "cell_type": "markdown",
   "metadata": {},
   "source": [
    "### Pandas + Matplotlib"
   ]
  },
  {
   "cell_type": "markdown",
   "metadata": {},
   "source": [
    "Pandas is what we loaded the data in with, and it has plotting functions that use matplotlib as the backend but are aware of how your dataframe is structured. This is all we need to do to make an almost identical chart as the one above."
   ]
  },
  {
   "cell_type": "code",
   "execution_count": null,
   "metadata": {
    "collapsed": false
   },
   "outputs": [],
   "source": [
    "large_cities.plot.bar()\n",
    "plt.ylabel(\"Population (m)\")"
   ]
  },
  {
   "cell_type": "markdown",
   "metadata": {},
   "source": [
    "Because pandas is plotting to matplotlib on the backend, you can still tweak it to your heart's content with commands directly to matplotlib like in the second line above. "
   ]
  },
  {
   "cell_type": "markdown",
   "metadata": {},
   "source": [
    "### Seaborn"
   ]
  },
  {
   "cell_type": "code",
   "execution_count": null,
   "metadata": {
    "collapsed": false
   },
   "outputs": [],
   "source": [
    "import seaborn\n",
    "seaborn.barplot(x=large_cities.index, y=large_cities)\n",
    "plt.xticks(rotation=\"vertical\")\n",
    "plt.ylabel(\"Population (m)\")"
   ]
  },
  {
   "cell_type": "markdown",
   "metadata": {},
   "source": [
    "### Bokeh\n",
    "\n",
    "Here's how to make a bar chart similar to the ones above in Bokeh. It's actually not trivial."
   ]
  },
  {
   "cell_type": "code",
   "execution_count": null,
   "metadata": {
    "collapsed": false
   },
   "outputs": [],
   "source": [
    "from bokeh.io import show, output_notebook\n",
    "from bokeh.models import ColumnDataSource\n",
    "from bokeh.plotting import figure\n",
    "\n",
    "output_notebook()\n",
    "\n",
    "cities = list(large_cities.index)\n",
    "populations = list(large_cities.values)\n",
    "\n",
    "source = ColumnDataSource(data=dict(cities=cities, populations=populations))\n",
    "\n",
    "p = figure(x_range=cities,  toolbar_location=None)\n",
    "p.vbar(x='cities', top='populations', width=0.9, source=source, \n",
    "       line_color='white')\n",
    "p.xaxis.major_label_orientation = 3.1415962 / 2\n",
    "show(p)"
   ]
  },
  {
   "cell_type": "markdown",
   "metadata": {},
   "source": [
    "A few pain points:\n",
    " * Have to manually convert pandas DataFrame into a Bokeh-compatible data source\n",
    " * Even using bokeh's native data type, have to specify several arguments about how to chart it. This complaint mostly comes down to the fact that vbar is not supposed to be a high-level charting function, which we'll get to in a second.\n",
    " * Default vertical setting for x-axis labels reads as backwards, so we have to manually specify the rotation in radians to get it to look right\n",
    " \n",
    "Generally, the code is just pretty verbose, since Bokeh deprecated its high-level charting functions. These are now being provided by Holoviews, which is the next library we'll try out."
   ]
  },
  {
   "cell_type": "markdown",
   "metadata": {},
   "source": [
    "### References\n",
    "\n",
    "Bokeh bar chart: http://bokeh.pydata.org/en/latest/docs/gallery/bar_colormapped.html\n",
    "\n"
   ]
  }
 ],
 "metadata": {
  "kernelspec": {
   "display_name": "Python 3",
   "language": "python",
   "name": "python3"
  },
  "language_info": {
   "codemirror_mode": {
    "name": "ipython",
    "version": 3
   },
   "file_extension": ".py",
   "mimetype": "text/x-python",
   "name": "python",
   "nbconvert_exporter": "python",
   "pygments_lexer": "ipython3",
   "version": "3.6.0"
  }
 },
 "nbformat": 4,
 "nbformat_minor": 2
}
