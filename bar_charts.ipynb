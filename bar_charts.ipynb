{
 "cells": [
  {
   "cell_type": "markdown",
   "metadata": {},
   "source": [
    "# Simple data visualization: the bar chart"
   ]
  },
  {
   "cell_type": "markdown",
   "metadata": {},
   "source": [
    "In this notebook we'll be comparing as many Python visualization libraries as possible with one simple metric: how easy is it to make a bar chart? We'll also look a bit into customization with each library, and explore the pain points a bit. \n",
    "\n",
    "_Note: if you're viewing this on GitHub, charting libraries that output Javascript (Bokeh, Holoviews, Altair) won't display. Try viewing the notebook on [my nbviewer page](http://nbviewer.jupyter.org/github/dovinmu/python-viz-notebooks/tree/master/) instead._\n",
    "\n",
    "First, let's load a pandas DataFrame of the data we'll be using and clean it a bit. There's a CSV in the repository that lists over 4,000 cities and towns in the United States. For now, let's just take the cities that are over a certain size and plop that into various charting libraries. "
   ]
  },
  {
   "cell_type": "code",
   "execution_count": 1,
   "metadata": {
    "collapsed": false
   },
   "outputs": [
    {
     "data": {
      "text/plain": [
       "Indianapolis    0.773283\n",
       "Jacksonville    0.797557\n",
       "Detroit         0.884941\n",
       "San Jose        0.897460\n",
       "Dallas          1.211704\n",
       "San Antonio     1.256810\n",
       "San Diego       1.287050\n",
       "Phoenix         1.428509\n",
       "Philadelphia    1.453268\n",
       "Houston         2.027712\n",
       "Chicago         2.841952\n",
       "Los Angeles     3.877129\n",
       "New York        8.107916\n",
       "Name: Population, dtype: float64"
      ]
     },
     "execution_count": 1,
     "metadata": {},
     "output_type": "execute_result"
    }
   ],
   "source": [
    "import pandas\n",
    "%matplotlib inline\n",
    "\n",
    "df = pandas.read_csv('data/US_cities.csv', index_col=\"AccentCity\")\n",
    "# select cities with a population greater than 750,000 and convert units to millions\n",
    "large_cities = df[df[\"Population\"] > 750000][[\"Population\"]] / 1000000\n",
    "# sort the list by population\n",
    "large_cities.sort_values(\"Population\", inplace=True)\n",
    "# we don't care about all the other data, so discard everything but the population\n",
    "large_cities = pandas.Series(large_cities[\"Population\"])\n",
    "# also don't care about the name of the cities column in the CSV\n",
    "del large_cities.index.name\n",
    "\n",
    "large_cities"
   ]
  },
  {
   "cell_type": "markdown",
   "metadata": {},
   "source": [
    "You could debate the decision to change the population values to floats that count millions of people, versus integers that store the exact population number. For our purposes right now, though, we don't need the exact number, and it will remove the headache of tweaking the Y-axis so it's more readable. \n",
    "\n",
    "### Matplotlib\n",
    "Matplotlib is both amazingly versatile, and also generally more verbose than the other packages below (which usually will use it as a backend rendering target for static graphs). You need to manually specify a few things that other packages just handle."
   ]
  },
  {
   "cell_type": "code",
   "execution_count": 2,
   "metadata": {
    "collapsed": false
   },
   "outputs": [
    {
     "data": {
      "text/plain": [
       "<matplotlib.text.Text at 0x28dc403d898>"
      ]
     },
     "execution_count": 2,
     "metadata": {},
     "output_type": "execute_result"
    },
    {
     "data": {
      "image/png": "[encoded data removed]",
      "text/plain": [
       "<matplotlib.figure.Figure at 0x28dc161f358>"
      ]
     },
     "metadata": {},
     "output_type": "display_data"
    }
   ],
   "source": [
    "import matplotlib.pyplot as plt\n",
    "\n",
    "# manually tell matplotlib where the bars will go, so we'll space them out every 10 pixels\n",
    "left = [i * 10 for i in range(len(large_cities))]\n",
    "plt.bar(left, large_cities.values, width=5, tick_label=large_cities.index)\n",
    "# make the city names vertical so we can read them\n",
    "plt.xticks(rotation=\"vertical\")\n",
    "plt.ylabel(\"Population (m)\")"
   ]
  },
  {
   "cell_type": "markdown",
   "metadata": {},
   "source": [
    "And we get this decent-looking bar chart."
   ]
  },
  {
   "cell_type": "markdown",
   "metadata": {},
   "source": [
    "### Pandas + Matplotlib"
   ]
  },
  {
   "cell_type": "markdown",
   "metadata": {},
   "source": [
    "Pandas is what we loaded the data in with, and it has plotting functions that use matplotlib as the backend but are aware of how your dataframe is structured. This is all we need to do to make an almost identical chart as the one above."
   ]
  },
  {
   "cell_type": "code",
   "execution_count": 3,
   "metadata": {
    "collapsed": false
   },
   "outputs": [
    {
     "data": {
      "text/plain": [
       "<matplotlib.text.Text at 0x28dc461dcc0>"
      ]
     },
     "execution_count": 3,
     "metadata": {},
     "output_type": "execute_result"
    },
    {
     "data": {
      "image/png": "[encoded data removed]",
      "text/plain": [
       "<matplotlib.figure.Figure at 0x28dc1602e80>"
      ]
     },
     "metadata": {},
     "output_type": "display_data"
    }
   ],
   "source": [
    "large_cities.plot.bar()\n",
    "plt.ylabel(\"Population (m)\")"
   ]
  },
  {
   "cell_type": "markdown",
   "metadata": {},
   "source": [
    "Because pandas is plotting to matplotlib on the backend, you can still tweak it to your heart's content with commands directly to matplotlib like in the second line above. "
   ]
  },
  {
   "cell_type": "markdown",
   "metadata": {},
   "source": [
    "### Seaborn"
   ]
  },
  {
   "cell_type": "code",
   "execution_count": 4,
   "metadata": {
    "collapsed": false
   },
   "outputs": [
    {
     "data": {
      "text/plain": [
       "<matplotlib.text.Text at 0x28dc52890b8>"
      ]
     },
     "execution_count": 4,
     "metadata": {},
     "output_type": "execute_result"
    },
    {
     "data": {
      "image/png": "[encoded data removed]",
      "text/plain": [
       "<matplotlib.figure.Figure at 0x28dc453ad68>"
      ]
     },
     "metadata": {},
     "output_type": "display_data"
    }
   ],
   "source": [
    "import seaborn\n",
    "seaborn.barplot(x=large_cities.index, y=large_cities)\n",
    "plt.xticks(rotation=\"vertical\")\n",
    "plt.ylabel(\"Population (m)\")"
   ]
  },
  {
   "cell_type": "markdown",
   "metadata": {},
   "source": [
    "### Bokeh\n",
    "\n",
    "Here's how to make a bar chart similar to the ones above in Bokeh. It's actually not trivial."
   ]
  },
  {
   "cell_type": "code",
   "execution_count": 5,
   "metadata": {
    "collapsed": false
   },
   "outputs": [
    {
     "data": {
      "text/html": [
       "\n",
       "    <div class=\"bk-root\">\n",
       "        <a href=\"https://bokeh.pydata.org\" target=\"_blank\" class=\"bk-logo bk-logo-small bk-logo-notebook\"></a>\n",
       "        <span id=\"0476190e-9f84-46f5-881e-d8a9ac5d36db\">Loading BokehJS ...</span>\n",
       "    </div>"
      ]
     },
     "metadata": {},
     "output_type": "display_data"
    },
    {
     "data": {
      "application/javascript": [
       "\n",
       "(function(root) {\n",
       "  function now() {\n",
       "    return new Date();\n",
       "  }\n",
       "\n",
       "  var force = true;\n",
       "\n",
       "  if (typeof (root._bokeh_onload_callbacks) === \"undefined\" || force === true) {\n",
       "    root._bokeh_onload_callbacks = [];\n",
       "    root._bokeh_is_loading = undefined;\n",
       "  }\n",
       "\n",
       "\n",
       "  \n",
       "  if (typeof (root._bokeh_timeout) === \"undefined\" || force === true) {\n",
       "    root._bokeh_timeout = Date.now() + 5000;\n",
       "    root._bokeh_failed_load = false;\n",
       "  }\n",
       "\n",
       "  var NB_LOAD_WARNING = {'data': {'text/html':\n",
       "     \"<div style='background-color: #fdd'>\\n\"+\n",
       "     \"<p>\\n\"+\n",
       "     \"BokehJS does not appear to have successfully loaded. If loading BokehJS from CDN, this \\n\"+\n",
       "     \"may be due to a slow or bad network connection. Possible fixes:\\n\"+\n",
       "     \"</p>\\n\"+\n",
       "     \"<ul>\\n\"+\n",
       "     \"<li>re-rerun `output_notebook()` to attempt to load from CDN again, or</li>\\n\"+\n",
       "     \"<li>use INLINE resources instead, as so:</li>\\n\"+\n",
       "     \"</ul>\\n\"+\n",
       "     \"<code>\\n\"+\n",
       "     \"from bokeh.resources import INLINE\\n\"+\n",
       "     \"output_notebook(resources=INLINE)\\n\"+\n",
       "     \"</code>\\n\"+\n",
       "     \"</div>\"}};\n",
       "\n",
       "  function display_loaded() {\n",
       "    if (root.Bokeh !== undefined) {\n",
       "      var el = document.getElementById(\"0476190e-9f84-46f5-881e-d8a9ac5d36db\");\n",
       "      if (el != null) {\n",
       "        el.textContent = \"BokehJS \" + Bokeh.version + \" successfully loaded.\";\n",
       "      }\n",
       "    } else if (Date.now() < root._bokeh_timeout) {\n",
       "      setTimeout(display_loaded, 100)\n",
       "    }\n",
       "  }\n",
       "\n",
       "\n",
       "  function run_callbacks() {\n",
       "    try {\n",
       "      root._bokeh_onload_callbacks.forEach(function(callback) { callback() });\n",
       "    }\n",
       "    finally {\n",
       "      delete root._bokeh_onload_callbacks\n",
       "    }\n",
       "    console.info(\"Bokeh: all callbacks have finished\");\n",
       "  }\n",
       "\n",
       "  function load_libs(js_urls, callback) {\n",
       "    root._bokeh_onload_callbacks.push(callback);\n",
       "    if (root._bokeh_is_loading > 0) {\n",
       "      console.log(\"Bokeh: BokehJS is being loaded, scheduling callback at\", now());\n",
       "      return null;\n",
       "    }\n",
       "    if (js_urls == null || js_urls.length === 0) {\n",
       "      run_callbacks();\n",
       "      return null;\n",
       "    }\n",
       "    console.log(\"Bokeh: BokehJS not loaded, scheduling load and callback at\", now());\n",
       "    root._bokeh_is_loading = js_urls.length;\n",
       "    for (var i = 0; i < js_urls.length; i++) {\n",
       "      var url = js_urls[i];\n",
       "      var s = document.createElement('script');\n",
       "      s.src = url;\n",
       "      s.async = false;\n",
       "      s.onreadystatechange = s.onload = function() {\n",
       "        root._bokeh_is_loading--;\n",
       "        if (root._bokeh_is_loading === 0) {\n",
       "          console.log(\"Bokeh: all BokehJS libraries loaded\");\n",
       "          run_callbacks()\n",
       "        }\n",
       "      };\n",
       "      s.onerror = function() {\n",
       "        console.warn(\"failed to load library \" + url);\n",
       "      };\n",
       "      console.log(\"Bokeh: injecting script tag for BokehJS library: \", url);\n",
       "      document.getElementsByTagName(\"head\")[0].appendChild(s);\n",
       "    }\n",
       "  };var element = document.getElementById(\"0476190e-9f84-46f5-881e-d8a9ac5d36db\");\n",
       "  if (element == null) {\n",
       "    console.log(\"Bokeh: ERROR: autoload.js configured with elementid '0476190e-9f84-46f5-881e-d8a9ac5d36db' but no matching script tag was found. \")\n",
       "    return false;\n",
       "  }\n",
       "\n",
       "  var js_urls = [\"https://cdn.pydata.org/bokeh/release/bokeh-0.12.7.min.js\", \"https://cdn.pydata.org/bokeh/release/bokeh-widgets-0.12.7.min.js\", \"https://cdn.pydata.org/bokeh/release/bokeh-tables-0.12.7.min.js\", \"https://cdn.pydata.org/bokeh/release/bokeh-gl-0.12.7.min.js\"];\n",
       "\n",
       "  var inline_js = [\n",
       "    function(Bokeh) {\n",
       "      Bokeh.set_log_level(\"info\");\n",
       "    },\n",
       "    \n",
       "    function(Bokeh) {\n",
       "      \n",
       "    },\n",
       "    \n",
       "    function(Bokeh) {\n",
       "      \n",
       "      document.getElementById(\"0476190e-9f84-46f5-881e-d8a9ac5d36db\").textContent = \"BokehJS is loading...\";\n",
       "    },\n",
       "    function(Bokeh) {\n",
       "      console.log(\"Bokeh: injecting CSS: https://cdn.pydata.org/bokeh/release/bokeh-0.12.7.min.css\");\n",
       "      Bokeh.embed.inject_css(\"https://cdn.pydata.org/bokeh/release/bokeh-0.12.7.min.css\");\n",
       "      console.log(\"Bokeh: injecting CSS: https://cdn.pydata.org/bokeh/release/bokeh-widgets-0.12.7.min.css\");\n",
       "      Bokeh.embed.inject_css(\"https://cdn.pydata.org/bokeh/release/bokeh-widgets-0.12.7.min.css\");\n",
       "      console.log(\"Bokeh: injecting CSS: https://cdn.pydata.org/bokeh/release/bokeh-tables-0.12.7.min.css\");\n",
       "      Bokeh.embed.inject_css(\"https://cdn.pydata.org/bokeh/release/bokeh-tables-0.12.7.min.css\");\n",
       "    }\n",
       "  ];\n",
       "\n",
       "  function run_inline_js() {\n",
       "    \n",
       "    if ((root.Bokeh !== undefined) || (force === true)) {\n",
       "      for (var i = 0; i < inline_js.length; i++) {\n",
       "        inline_js[i].call(root, root.Bokeh);\n",
       "      }if (force === true) {\n",
       "        display_loaded();\n",
       "      }} else if (Date.now() < root._bokeh_timeout) {\n",
       "      setTimeout(run_inline_js, 100);\n",
       "    } else if (!root._bokeh_failed_load) {\n",
       "      console.log(\"Bokeh: BokehJS failed to load within specified timeout.\");\n",
       "      root._bokeh_failed_load = true;\n",
       "    } else if (force !== true) {\n",
       "      var cell = $(document.getElementById(\"0476190e-9f84-46f5-881e-d8a9ac5d36db\")).parents('.cell').data().cell;\n",
       "      cell.output_area.append_execute_result(NB_LOAD_WARNING)\n",
       "    }\n",
       "\n",
       "  }\n",
       "\n",
       "  if (root._bokeh_is_loading === 0) {\n",
       "    console.log(\"Bokeh: BokehJS loaded, going straight to plotting\");\n",
       "    run_inline_js();\n",
       "  } else {\n",
       "    load_libs(js_urls, function() {\n",
       "      console.log(\"Bokeh: BokehJS plotting callback run at\", now());\n",
       "      run_inline_js();\n",
       "    });\n",
       "  }\n",
       "}(window));"
      ]
     },
     "metadata": {},
     "output_type": "display_data"
    },
    {
     "data": {
      "text/html": [
       "\n",
       "\n",
       "    <div class=\"bk-root\">\n",
       "        <div class=\"bk-plotdiv\" id=\"4899ea01-c6d8-45a4-8327-ec34052e2ae3\"></div>\n",
       "    </div>\n",
       "<script type=\"text/javascript\">\n",
       "  \n",
       "  (function(root) {\n",
       "    function now() {\n",
       "      return new Date();\n",
       "    }\n",
       "  \n",
       "    var force = false;\n",
       "  \n",
       "    if (typeof (root._bokeh_onload_callbacks) === \"undefined\" || force === true) {\n",
       "      root._bokeh_onload_callbacks = [];\n",
       "      root._bokeh_is_loading = undefined;\n",
       "    }\n",
       "  \n",
       "  \n",
       "    \n",
       "    if (typeof (root._bokeh_timeout) === \"undefined\" || force === true) {\n",
       "      root._bokeh_timeout = Date.now() + 0;\n",
       "      root._bokeh_failed_load = false;\n",
       "    }\n",
       "  \n",
       "    var NB_LOAD_WARNING = {'data': {'text/html':\n",
       "       \"<div style='background-color: #fdd'>\\n\"+\n",
       "       \"<p>\\n\"+\n",
       "       \"BokehJS does not appear to have successfully loaded. If loading BokehJS from CDN, this \\n\"+\n",
       "       \"may be due to a slow or bad network connection. Possible fixes:\\n\"+\n",
       "       \"</p>\\n\"+\n",
       "       \"<ul>\\n\"+\n",
       "       \"<li>re-rerun `output_notebook()` to attempt to load from CDN again, or</li>\\n\"+\n",
       "       \"<li>use INLINE resources instead, as so:</li>\\n\"+\n",
       "       \"</ul>\\n\"+\n",
       "       \"<code>\\n\"+\n",
       "       \"from bokeh.resources import INLINE\\n\"+\n",
       "       \"output_notebook(resources=INLINE)\\n\"+\n",
       "       \"</code>\\n\"+\n",
       "       \"</div>\"}};\n",
       "  \n",
       "    function display_loaded() {\n",
       "      if (root.Bokeh !== undefined) {\n",
       "        var el = document.getElementById(\"4899ea01-c6d8-45a4-8327-ec34052e2ae3\");\n",
       "        if (el != null) {\n",
       "          el.textContent = \"BokehJS \" + Bokeh.version + \" successfully loaded.\";\n",
       "        }\n",
       "      } else if (Date.now() < root._bokeh_timeout) {\n",
       "        setTimeout(display_loaded, 100)\n",
       "      }\n",
       "    }\n",
       "  \n",
       "  \n",
       "    function run_callbacks() {\n",
       "      try {\n",
       "        root._bokeh_onload_callbacks.forEach(function(callback) { callback() });\n",
       "      }\n",
       "      finally {\n",
       "        delete root._bokeh_onload_callbacks\n",
       "      }\n",
       "      console.info(\"Bokeh: all callbacks have finished\");\n",
       "    }\n",
       "  \n",
       "    function load_libs(js_urls, callback) {\n",
       "      root._bokeh_onload_callbacks.push(callback);\n",
       "      if (root._bokeh_is_loading > 0) {\n",
       "        console.log(\"Bokeh: BokehJS is being loaded, scheduling callback at\", now());\n",
       "        return null;\n",
       "      }\n",
       "      if (js_urls == null || js_urls.length === 0) {\n",
       "        run_callbacks();\n",
       "        return null;\n",
       "      }\n",
       "      console.log(\"Bokeh: BokehJS not loaded, scheduling load and callback at\", now());\n",
       "      root._bokeh_is_loading = js_urls.length;\n",
       "      for (var i = 0; i < js_urls.length; i++) {\n",
       "        var url = js_urls[i];\n",
       "        var s = document.createElement('script');\n",
       "        s.src = url;\n",
       "        s.async = false;\n",
       "        s.onreadystatechange = s.onload = function() {\n",
       "          root._bokeh_is_loading--;\n",
       "          if (root._bokeh_is_loading === 0) {\n",
       "            console.log(\"Bokeh: all BokehJS libraries loaded\");\n",
       "            run_callbacks()\n",
       "          }\n",
       "        };\n",
       "        s.onerror = function() {\n",
       "          console.warn(\"failed to load library \" + url);\n",
       "        };\n",
       "        console.log(\"Bokeh: injecting script tag for BokehJS library: \", url);\n",
       "        document.getElementsByTagName(\"head\")[0].appendChild(s);\n",
       "      }\n",
       "    };var element = document.getElementById(\"4899ea01-c6d8-45a4-8327-ec34052e2ae3\");\n",
       "    if (element == null) {\n",
       "      console.log(\"Bokeh: ERROR: autoload.js configured with elementid '4899ea01-c6d8-45a4-8327-ec34052e2ae3' but no matching script tag was found. \")\n",
       "      return false;\n",
       "    }\n",
       "  \n",
       "    var js_urls = [];\n",
       "  \n",
       "    var inline_js = [\n",
       "      function(Bokeh) {\n",
       "        (function() {\n",
       "          var fn = function() {\n",
       "            var docs_json = {\"37b0737a-5ec7-4d9f-9ea6-4e7e3f5a174c\":{\"roots\":{\"references\":[{\"attributes\":{\"source\":{\"id\":\"123c6722-7dca-400b-bceb-460c8aaa4843\",\"type\":\"ColumnDataSource\"}},\"id\":\"d1041111-d057-466d-b483-c177af00c95e\",\"type\":\"CDSView\"},{\"attributes\":{},\"id\":\"3f0cab2d-6d19-476c-8a71-109290e7691b\",\"type\":\"CategoricalScale\"},{\"attributes\":{\"active_drag\":\"auto\",\"active_inspect\":\"auto\",\"active_scroll\":\"auto\",\"active_tap\":\"auto\",\"tools\":[{\"id\":\"8f23350a-4b1e-4ae6-bf7d-57e805a29b4f\",\"type\":\"PanTool\"},{\"id\":\"defbcd4c-beaf-49c0-90b5-9d0029ef36a1\",\"type\":\"WheelZoomTool\"},{\"id\":\"44c8d717-f0af-4975-8199-a55af89f03ae\",\"type\":\"BoxZoomTool\"},{\"id\":\"0addd00e-9305-4e66-b3d6-0bdcffc307a6\",\"type\":\"SaveTool\"},{\"id\":\"2228f3a0-44fc-4f28-b145-2a878ad64fe9\",\"type\":\"ResetTool\"},{\"id\":\"da00f666-d3e5-489e-bfe5-1e208a829a67\",\"type\":\"HelpTool\"}]},\"id\":\"b5d2c850-4e96-405a-9084-1b3535619096\",\"type\":\"Toolbar\"},{\"attributes\":{\"formatter\":{\"id\":\"1b82c613-5d01-4b2e-97e9-5bd2b14f9972\",\"type\":\"CategoricalTickFormatter\"},\"major_label_orientation\":1.5707981,\"plot\":{\"id\":\"7e75bff8-4353-4335-a9fa-c8137a1bdcb6\",\"subtype\":\"Figure\",\"type\":\"Plot\"},\"ticker\":{\"id\":\"80e07f94-4aa1-4370-a689-83e458d4ea25\",\"type\":\"CategoricalTicker\"}},\"id\":\"1b60f0d5-c94b-4682-8ab8-3d91a02c31a5\",\"type\":\"CategoricalAxis\"},{\"attributes\":{\"fill_color\":{\"value\":\"#1f77b4\"},\"line_color\":{\"value\":\"white\"},\"top\":{\"field\":\"populations\"},\"width\":{\"value\":0.9},\"x\":{\"field\":\"cities\"}},\"id\":\"e8e638db-cd66-4bd5-9cb9-a22835210171\",\"type\":\"VBar\"},{\"attributes\":{},\"id\":\"80e07f94-4aa1-4370-a689-83e458d4ea25\",\"type\":\"CategoricalTicker\"},{\"attributes\":{\"data_source\":{\"id\":\"123c6722-7dca-400b-bceb-460c8aaa4843\",\"type\":\"ColumnDataSource\"},\"glyph\":{\"id\":\"e8e638db-cd66-4bd5-9cb9-a22835210171\",\"type\":\"VBar\"},\"hover_glyph\":null,\"muted_glyph\":null,\"nonselection_glyph\":{\"id\":\"80c1fc93-eaa0-4181-b21d-869e57f92ead\",\"type\":\"VBar\"},\"selection_glyph\":null,\"view\":{\"id\":\"d1041111-d057-466d-b483-c177af00c95e\",\"type\":\"CDSView\"}},\"id\":\"32e0d532-8cdd-4c75-b12d-5b13eee07c82\",\"type\":\"GlyphRenderer\"},{\"attributes\":{\"plot\":null,\"text\":\"\"},\"id\":\"d66fb2ce-6234-496f-b329-e21dd8bb2083\",\"type\":\"Title\"},{\"attributes\":{\"below\":[{\"id\":\"1b60f0d5-c94b-4682-8ab8-3d91a02c31a5\",\"type\":\"CategoricalAxis\"}],\"left\":[{\"id\":\"03ec6122-e913-4d13-92d3-f9563ecbd356\",\"type\":\"LinearAxis\"}],\"renderers\":[{\"id\":\"1b60f0d5-c94b-4682-8ab8-3d91a02c31a5\",\"type\":\"CategoricalAxis\"},{\"id\":\"d053e32e-8392-4e38-a868-a4ec1b205314\",\"type\":\"Grid\"},{\"id\":\"03ec6122-e913-4d13-92d3-f9563ecbd356\",\"type\":\"LinearAxis\"},{\"id\":\"19645bf9-99e8-4810-8fa0-71a347eef3ca\",\"type\":\"Grid\"},{\"id\":\"685aa3d7-7390-4b26-827c-03fdcf87fccd\",\"type\":\"BoxAnnotation\"},{\"id\":\"32e0d532-8cdd-4c75-b12d-5b13eee07c82\",\"type\":\"GlyphRenderer\"}],\"title\":{\"id\":\"d66fb2ce-6234-496f-b329-e21dd8bb2083\",\"type\":\"Title\"},\"toolbar\":{\"id\":\"b5d2c850-4e96-405a-9084-1b3535619096\",\"type\":\"Toolbar\"},\"toolbar_location\":null,\"x_range\":{\"id\":\"74ec9b20-0ab4-4613-8404-d450be500194\",\"type\":\"FactorRange\"},\"x_scale\":{\"id\":\"3f0cab2d-6d19-476c-8a71-109290e7691b\",\"type\":\"CategoricalScale\"},\"y_range\":{\"id\":\"21b7cdad-d61a-4253-a644-0a373dd5efb2\",\"type\":\"DataRange1d\"},\"y_scale\":{\"id\":\"d6659267-c186-4c71-a6e3-e22b8dec87c4\",\"type\":\"LinearScale\"}},\"id\":\"7e75bff8-4353-4335-a9fa-c8137a1bdcb6\",\"subtype\":\"Figure\",\"type\":\"Plot\"},{\"attributes\":{},\"id\":\"d6659267-c186-4c71-a6e3-e22b8dec87c4\",\"type\":\"LinearScale\"},{\"attributes\":{\"formatter\":{\"id\":\"e611544b-8670-4f60-bf2e-c35baf975bee\",\"type\":\"BasicTickFormatter\"},\"plot\":{\"id\":\"7e75bff8-4353-4335-a9fa-c8137a1bdcb6\",\"subtype\":\"Figure\",\"type\":\"Plot\"},\"ticker\":{\"id\":\"6e48c7ee-da65-4433-8eed-8d3539f2a5fd\",\"type\":\"BasicTicker\"}},\"id\":\"03ec6122-e913-4d13-92d3-f9563ecbd356\",\"type\":\"LinearAxis\"},{\"attributes\":{\"plot\":{\"id\":\"7e75bff8-4353-4335-a9fa-c8137a1bdcb6\",\"subtype\":\"Figure\",\"type\":\"Plot\"},\"ticker\":{\"id\":\"80e07f94-4aa1-4370-a689-83e458d4ea25\",\"type\":\"CategoricalTicker\"}},\"id\":\"d053e32e-8392-4e38-a868-a4ec1b205314\",\"type\":\"Grid\"},{\"attributes\":{},\"id\":\"6e48c7ee-da65-4433-8eed-8d3539f2a5fd\",\"type\":\"BasicTicker\"},{\"attributes\":{\"callback\":null,\"column_names\":[\"cities\",\"populations\"],\"data\":{\"cities\":[\"Indianapolis\",\"Jacksonville\",\"Detroit\",\"San Jose\",\"Dallas\",\"San Antonio\",\"San Diego\",\"Phoenix\",\"Philadelphia\",\"Houston\",\"Chicago\",\"Los Angeles\",\"New York\"],\"populations\":[0.773283,0.797557,0.884941,0.89746,1.211704,1.25681,1.28705,1.428509,1.453268,2.027712,2.841952,3.877129,8.107916]}},\"id\":\"123c6722-7dca-400b-bceb-460c8aaa4843\",\"type\":\"ColumnDataSource\"},{\"attributes\":{\"dimension\":1,\"plot\":{\"id\":\"7e75bff8-4353-4335-a9fa-c8137a1bdcb6\",\"subtype\":\"Figure\",\"type\":\"Plot\"},\"ticker\":{\"id\":\"6e48c7ee-da65-4433-8eed-8d3539f2a5fd\",\"type\":\"BasicTicker\"}},\"id\":\"19645bf9-99e8-4810-8fa0-71a347eef3ca\",\"type\":\"Grid\"},{\"attributes\":{\"bottom_units\":\"screen\",\"fill_alpha\":{\"value\":0.5},\"fill_color\":{\"value\":\"lightgrey\"},\"left_units\":\"screen\",\"level\":\"overlay\",\"line_alpha\":{\"value\":1.0},\"line_color\":{\"value\":\"black\"},\"line_dash\":[4,4],\"line_width\":{\"value\":2},\"plot\":null,\"render_mode\":\"css\",\"right_units\":\"screen\",\"top_units\":\"screen\"},\"id\":\"685aa3d7-7390-4b26-827c-03fdcf87fccd\",\"type\":\"BoxAnnotation\"},{\"attributes\":{\"callback\":null,\"factors\":[\"Indianapolis\",\"Jacksonville\",\"Detroit\",\"San Jose\",\"Dallas\",\"San Antonio\",\"San Diego\",\"Phoenix\",\"Philadelphia\",\"Houston\",\"Chicago\",\"Los Angeles\",\"New York\"]},\"id\":\"74ec9b20-0ab4-4613-8404-d450be500194\",\"type\":\"FactorRange\"},{\"attributes\":{},\"id\":\"8f23350a-4b1e-4ae6-bf7d-57e805a29b4f\",\"type\":\"PanTool\"},{\"attributes\":{},\"id\":\"e611544b-8670-4f60-bf2e-c35baf975bee\",\"type\":\"BasicTickFormatter\"},{\"attributes\":{},\"id\":\"defbcd4c-beaf-49c0-90b5-9d0029ef36a1\",\"type\":\"WheelZoomTool\"},{\"attributes\":{\"overlay\":{\"id\":\"685aa3d7-7390-4b26-827c-03fdcf87fccd\",\"type\":\"BoxAnnotation\"}},\"id\":\"44c8d717-f0af-4975-8199-a55af89f03ae\",\"type\":\"BoxZoomTool\"},{\"attributes\":{\"fill_alpha\":{\"value\":0.1},\"fill_color\":{\"value\":\"#1f77b4\"},\"line_alpha\":{\"value\":0.1},\"line_color\":{\"value\":\"#1f77b4\"},\"top\":{\"field\":\"populations\"},\"width\":{\"value\":0.9},\"x\":{\"field\":\"cities\"}},\"id\":\"80c1fc93-eaa0-4181-b21d-869e57f92ead\",\"type\":\"VBar\"},{\"attributes\":{},\"id\":\"0addd00e-9305-4e66-b3d6-0bdcffc307a6\",\"type\":\"SaveTool\"},{\"attributes\":{},\"id\":\"2228f3a0-44fc-4f28-b145-2a878ad64fe9\",\"type\":\"ResetTool\"},{\"attributes\":{},\"id\":\"da00f666-d3e5-489e-bfe5-1e208a829a67\",\"type\":\"HelpTool\"},{\"attributes\":{\"callback\":null},\"id\":\"21b7cdad-d61a-4253-a644-0a373dd5efb2\",\"type\":\"DataRange1d\"},{\"attributes\":{},\"id\":\"1b82c613-5d01-4b2e-97e9-5bd2b14f9972\",\"type\":\"CategoricalTickFormatter\"}],\"root_ids\":[\"7e75bff8-4353-4335-a9fa-c8137a1bdcb6\"]},\"title\":\"Bokeh Application\",\"version\":\"0.12.7\"}};\n",
       "            var render_items = [{\"docid\":\"37b0737a-5ec7-4d9f-9ea6-4e7e3f5a174c\",\"elementid\":\"4899ea01-c6d8-45a4-8327-ec34052e2ae3\",\"modelid\":\"7e75bff8-4353-4335-a9fa-c8137a1bdcb6\"}];\n",
       "            \n",
       "            Bokeh.embed.embed_items(docs_json, render_items);\n",
       "          };\n",
       "          if (document.readyState != \"loading\") fn();\n",
       "          else document.addEventListener(\"DOMContentLoaded\", fn);\n",
       "        })();\n",
       "      },\n",
       "      function(Bokeh) {\n",
       "      }\n",
       "    ];\n",
       "  \n",
       "    function run_inline_js() {\n",
       "      \n",
       "      if ((root.Bokeh !== undefined) || (force === true)) {\n",
       "        for (var i = 0; i < inline_js.length; i++) {\n",
       "          inline_js[i].call(root, root.Bokeh);\n",
       "        }if (force === true) {\n",
       "          display_loaded();\n",
       "        }} else if (Date.now() < root._bokeh_timeout) {\n",
       "        setTimeout(run_inline_js, 100);\n",
       "      } else if (!root._bokeh_failed_load) {\n",
       "        console.log(\"Bokeh: BokehJS failed to load within specified timeout.\");\n",
       "        root._bokeh_failed_load = true;\n",
       "      } else if (force !== true) {\n",
       "        var cell = $(document.getElementById(\"4899ea01-c6d8-45a4-8327-ec34052e2ae3\")).parents('.cell').data().cell;\n",
       "        cell.output_area.append_execute_result(NB_LOAD_WARNING)\n",
       "      }\n",
       "  \n",
       "    }\n",
       "  \n",
       "    if (root._bokeh_is_loading === 0) {\n",
       "      console.log(\"Bokeh: BokehJS loaded, going straight to plotting\");\n",
       "      run_inline_js();\n",
       "    } else {\n",
       "      load_libs(js_urls, function() {\n",
       "        console.log(\"Bokeh: BokehJS plotting callback run at\", now());\n",
       "        run_inline_js();\n",
       "      });\n",
       "    }\n",
       "  }(window));\n",
       "</script>"
      ]
     },
     "metadata": {},
     "output_type": "display_data"
    }
   ],
   "source": [
    "from bokeh.io import show, output_notebook\n",
    "from bokeh.models import ColumnDataSource\n",
    "from bokeh.plotting import figure\n",
    "\n",
    "output_notebook()\n",
    "\n",
    "cities = list(large_cities.index)\n",
    "populations = list(large_cities.values)\n",
    "\n",
    "source = ColumnDataSource(data=dict(cities=cities, populations=populations))\n",
    "\n",
    "p = figure(x_range=cities,  toolbar_location=None)\n",
    "p.vbar(x='cities', top='populations', width=0.9, source=source, \n",
    "       line_color='white')\n",
    "p.xaxis.major_label_orientation = 3.1415962 / 2\n",
    "show(p)"
   ]
  },
  {
   "cell_type": "markdown",
   "metadata": {},
   "source": [
    "A few pain points:\n",
    " * Have to manually convert pandas DataFrame into a Bokeh-compatible data source\n",
    " * Even using bokeh's native data type, have to specify several arguments about how to chart it. This complaint mostly comes down to the fact that vbar is not supposed to be a high-level charting function, which we'll get to in a second.\n",
    " * Default vertical setting for x-axis labels reads as backwards, so we have to manually specify the rotation in radians to get it to look right\n",
    " \n",
    "Generally, the code is just pretty verbose, since Bokeh deprecated its high-level charting functions. These are now being provided by Holoviews, which is the next library we'll try out."
   ]
  },
  {
   "cell_type": "markdown",
   "metadata": {},
   "source": [
    "### References\n",
    "\n",
    "Bokeh bar chart: http://bokeh.pydata.org/en/latest/docs/gallery/bar_colormapped.html\n",
    "\n"
   ]
  }
 ],
 "metadata": {
  "kernelspec": {
   "display_name": "Python 3",
   "language": "python",
   "name": "python3"
  },
  "language_info": {
   "codemirror_mode": {
    "name": "ipython",
    "version": 3
   },
   "file_extension": ".py",
   "mimetype": "text/x-python",
   "name": "python",
   "nbconvert_exporter": "python",
   "pygments_lexer": "ipython3",
   "version": "3.6.0"
  }
 },
 "nbformat": 4,
 "nbformat_minor": 2
}
